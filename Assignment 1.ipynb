{
 "cells": [
  {
   "cell_type": "markdown",
   "id": "913bb776",
   "metadata": {},
   "source": [
    "# <center>INeuron Assignment 1<cneter>"
   ]
  },
  {
   "cell_type": "markdown",
   "id": "28c9b9a4",
   "metadata": {},
   "source": [
    "#### 1. In the below elements which of them are values or an expression? eg:- values can beinteger or string and expressions will be mathematical operators.  *    'hello'    -87.8   -    /   +    6\n",
    "##### Ans:- \n",
    "     In this elements values are :- 'hello'  -87.8  and 6 \n",
    "     and expressions are :- *  -  /  +"
   ]
  },
  
  {
   "cell_type": "markdown",
   "id": "e51b5b5d",
   "metadata": {},
   "source": [
    "#### 2. What is the difference between string and variable?\n",
    "##### Ans:-\n",
    "     A string is the group or collection of characters or we can say that array of characters is called string. A string is \n",
    "     always returned in double or single quotes. In python, the string can be a number but it is always written in\n",
    "     single, double and triple quote.\n",
    "     for example:- 'hello', 'hi', 'name', '48' etc \n",
    "         \n",
    "     Variable is the name or address of memory location which holds some value or data. the variable can be any name but not\n",
    "     any keywords or signs. There is some rule to form a variable which tells that we can not use the only number as a\n",
    "     variable, any key/symbols, expression, and blank space between characters. for example:- x = 5, y = hello, and \n",
    "     full_name = Ram Sharma, but full name, @abc, 518, ($xyz) these are  invalid variables. "
   ]
  },
  
  {
   "cell_type": "markdown",
   "id": "ead7de5b",
   "metadata": {},
   "source": [
    "#### 3. Describe three different data types.\n",
    "##### Ans:- Three different data types are:-\n",
    "   **Numeric Type**:- An **integer data** type that holds positive or negative whole numbers. In Python there is no limit to\n",
    "   how long an integer value can be. For presenting or converting any numerical value in integer we use 'int' as a prefix for\n",
    "   number. **Floating data type** is used for decimal values. **Complex Number** is specified as (real part) +(imaginarypart)j.    For example – 2+3j\n",
    "\n",
    "   **Sequence Type**:- sequence is the ordered collection of similar or different data types. Sequences allows to store\n",
    "   multiple values in an organized and efficient manner. There are several sequence data types in python:\n",
    "   **Strings** array of character. A string is a collection of one or more characters put in single quotes, double-quote or\n",
    "   triple quote. It is represented as 'str'. **Lists** are work as arrays which is a collection of one or more data types. List\n",
    "   are mutuable. It is represented as list. **Tuple** are ordered collection of objects but tuples are immutable that is tuples \n",
    "   cannot be modified after it is created. It is represented as tuple.\n",
    "   \n",
    "   **Boolean**:- This data type one of the two built-in values, True or False. The condition or objects that are equal to True \n",
    "   are truthy and those equal to False are falsy. It is represented as bool."
   ]
  },
  
  {
   "cell_type": "markdown",
   "id": "cddf213c",
   "metadata": {},
   "source": [
    "#### 4. What is an expression made up of? What do all expressions do?\n",
    "#### Ans:- \n",
    "    Expression is made up of mathematical signs and symbols. It is a combination of operators and operands For example \n",
    "    2+3=5. Here, + is the operator that performs addition. 2 and 3 are the operands and 5 is the output of the operation.\n",
    "    In python there are different expressions which are arithmetic, logical, combinational, or relational, bitwise \n",
    "    expressions this expression performs addition, subtraction, division, finding the relation between operands and \n",
    "    computations."
   ]
  },
  
  {
   "cell_type": "markdown",
   "id": "6cddfba4",
   "metadata": {},
   "source": [
    "#### 5. This assignment statements, like spam = 10. What is the difference between an expression and a statement?\n",
    "##### Ans:-  \n",
    "    The expression always returns a value or result, but statements give the data. While evaluating expression produces \n",
    "    result but statements give what it says. Sometimes every expression can't be a statement, unlike every statement can be \n",
    "    an expression. Like spam = 10 is statement, while spam + 1 is expression.\n"
   ]
  },
  
  {
   "cell_type": "markdown",
   "id": "c30d9467",
   "metadata": {},
   "source": [
    "#### 6. After running the following code, what does the variable bacon contain?\n",
    "#### bacon = 22\n",
    "#### bacon + 1\n",
    "#### Ans:- \n",
    "    After running this code, bacon variable contain 22 as value."
   ]
  },
  
  {
   "cell_type": "markdown",
   "id": "9b3180bb",
   "metadata": {},
   "source": [
    "#### 7. What should the values of the following two terms be?\n",
    "#### 'spam' + 'spamspam'\n",
    "#### 'spam' * 3\n",
    "##### Ans:- \n",
    "    'spam' + 'spamspam' = 'spamspamspam'\n",
    "    'spam' * 3 = 'spamspamspam'"
   ]
  },
  
  {
   "cell_type": "markdown",
   "id": "6f837dad",
   "metadata": {},
   "source": [
    "#### 8. Why is eggs a valid variable name while 100 is invalid?\n",
    "#### Ans:- \n",
    "    In python, 100 is representing as integer data type which is data type in python so, can not use it as a variable but \n",
    "    eggs is name and or string which can be used as variable as per python rules."
   ]
  },
  
  {
   "cell_type": "markdown",
   "id": "1b65b653",
   "metadata": {},
   "source": [
    "#### 9. What three functions can be used to get the integer, floating-point number, or string version of a value?\n",
    "#### Ans:- \n",
    "    The functions are:\n",
    "    int()\n",
    "    float()\n",
    "    str()"
   ]
  },
  
  {
   "cell_type": "markdown",
   "id": "cafb558a",
   "metadata": {},
   "source": [
    "#### 10. Why does this expression cause an error? How can you fix it?\n",
    "'I have eaten' + 99 + 'burritos.'\n",
    "#### Ans:-\n",
    "    This expression cause an error because in this line 'I have eaten' + 99 + 'burritos.' in which 'I have eaten' and \n",
    "    'burritos.' are strings, while 99 is integer. If we have to fix this error we have to change integer(99) into string by \n",
    "    using type conversion  or by using quotes around 99 which gives \"I have eaten 99 burritos' as output.\n",
    "    'I have eaten' + str(99) + 'burritos.'\n",
    "    'I have eaten' + '99' + 'burritos.'"
   ]
  },
  {
   "cell_type": "code",
   "execution_count": null,
   "id": "670dcfa2",
   "metadata": {},
   "outputs": [],
   "source": []
  }
 ],
 "metadata": {
  "kernelspec": {
   "display_name": "Python 3",
   "language": "python",
   "name": "python3"
  },
  "language_info": {
   "codemirror_mode": {
    "name": "ipython",
    "version": 3
   },
   "file_extension": ".py",
   "mimetype": "text/x-python",
   "name": "python",
   "nbconvert_exporter": "python",
   "pygments_lexer": "ipython3",
   "version": "3.8.5"
  }
 },
 "nbformat": 4,
 "nbformat_minor": 5
}
