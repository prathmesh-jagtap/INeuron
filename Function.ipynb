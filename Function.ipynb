{
 "cells": [
  {
   "cell_type": "markdown",
   "id": "99da3576",
   "metadata": {},
   "source": [
    "# Practice Questions On Function"
   ]
  },
  {
   "cell_type": "markdown",
   "id": "4c2cd646",
   "metadata": {},
   "source": [
    "### 1 . you have to write a fun which will take string and return a len of it without using a inbuilt fun len"
   ]
  },
  {
   "cell_type": "code",
   "execution_count": 30,
   "id": "b1d46a61",
   "metadata": {},
   "outputs": [
    {
     "data": {
      "text/plain": [
       "5"
      ]
     },
     "execution_count": 30,
     "metadata": {},
     "output_type": "execute_result"
    }
   ],
   "source": [
    "def length(string):\n",
    "    '''Length function which gives lenght of function wihout len built-in Function \n",
    "    attr : string(the word which you want to find lenght)\n",
    "    Example : \n",
    "               length('hello')\n",
    "               Output = 5'''\n",
    "    count = 0\n",
    "    if type(string) == str:\n",
    "        for i in string:\n",
    "            count += 1\n",
    "        return count\n",
    "length('hello')"
   ]
  },
  {
   "cell_type": "markdown",
   "id": "47c0d477",
   "metadata": {},
   "source": [
    "### 2 . write a fun which will be able to print an index of all premitive element which you will pass \n"
   ]
  },
  {
   "cell_type": "code",
   "execution_count": 31,
   "id": "c0a3c238",
   "metadata": {},
   "outputs": [
    {
     "name": "stdout",
     "output_type": "stream",
     "text": [
      "index of Hello is 0 \n",
      "index of my is 1 \n",
      "index of name is 2 \n",
      "index of is is 3 \n",
      "index of python is 4 \n",
      "index of and is 5 \n",
      "index of i is 6 \n",
      "index of love is 7 \n",
      "index of to is 8 \n",
      "index of code is 9 \n",
      "index of in is 10 \n",
      "index of python is 11 \n",
      "index of 1234 is 12 \n"
     ]
    }
   ],
   "source": [
    "def find_place(query):\n",
    "    '''This function gives index of all premitive element'''\n",
    "    l = query.split(' ')\n",
    "    for i in range(len(l)):\n",
    "        ele = l[i]\n",
    "        print(\"index of {} is {} \".format(ele, i))\n",
    "\n",
    "l = 'Hello my name is python and i love to code in python 1234'\n",
    "find_place(l)"
   ]
  },
  {
   "cell_type": "markdown",
   "id": "1ab5e038",
   "metadata": {},
   "source": [
    "### 3 . Write a fun which will take input as a dict and give me out as a list of all the values even in case of 2 level nesting it should work."
   ]
  },
  {
   "cell_type": "code",
   "execution_count": 32,
   "id": "60dfc577",
   "metadata": {},
   "outputs": [
    {
     "data": {
      "text/plain": [
       "[1, 2, 3, 4, 'hello', 'hi', 20, 40]"
      ]
     },
     "execution_count": 32,
     "metadata": {},
     "output_type": "execute_result"
    }
   ],
   "source": [
    "def get_list(dictionary):\n",
    "    '''This func gives values of dictionary as output in form of list'''\n",
    "    val_list = []\n",
    "    for i in dictionary.values():\n",
    "        if type(i) != dict:\n",
    "            val_list.append(i)\n",
    "        else:\n",
    "            for j in i.values():\n",
    "                val_list.append(j)\n",
    "    return val_list\n",
    "\n",
    "d = {'a' : 1, 'b':2, 'c':3, 'd':4, 'e' : {'x' : 'hello', 'y' : 'hi'}, 'f':{1:20, 2:40}}\n",
    "get_list(d)"
   ]
  },
  {
   "cell_type": "markdown",
   "id": "481626b6",
   "metadata": {},
   "source": [
    "### 4 . write a fun which will take another function as an input and return me an output"
   ]
  },
  {
   "cell_type": "code",
   "execution_count": 33,
   "id": "1cd07118",
   "metadata": {},
   "outputs": [
    {
     "data": {
      "text/plain": [
       "10"
      ]
     },
     "execution_count": 33,
     "metadata": {},
     "output_type": "execute_result"
    }
   ],
   "source": [
    "def func1(a):\n",
    "    '''\n",
    "    Function in Function\n",
    "    '''\n",
    "    def func2(i):\n",
    "        return i*a\n",
    "    return func2\n",
    "\n",
    "a = (func1(5))\n",
    "a(2)"
   ]
  },
  {
   "cell_type": "markdown",
   "id": "4cf29bed",
   "metadata": {},
   "source": [
    "### 5 . write a function which will take multiple list as a input and give me concatnation of all the element as an output"
   ]
  },
  {
   "cell_type": "code",
   "execution_count": 34,
   "id": "a3cd54ff",
   "metadata": {},
   "outputs": [
    {
     "data": {
      "text/plain": [
       "[1, 2, 3, 4, 5, 6, 7, 8, 9, 'hi', 'hello', 'prathm']"
      ]
     },
     "execution_count": 34,
     "metadata": {},
     "output_type": "execute_result"
    }
   ],
   "source": [
    "def concate(*lists):\n",
    "    '''\n",
    "    This function gives you two or more list in one list\n",
    "    '''\n",
    "    lis = []\n",
    "    for i in lists:\n",
    "        if type(i) == list:\n",
    "            for j in i:\n",
    "                lis.append(j)\n",
    "    return lis     \n",
    "\n",
    "a = [1, 2, 3]\n",
    "b = [4, 5, 6]\n",
    "c = [7, 8, 9]\n",
    "d = ['hi', 'hello', 'prathm']\n",
    "concate(a, b, c, d)"
   ]
  },
  {
   "cell_type": "markdown",
   "id": "a982fb6d",
   "metadata": {},
   "source": [
    "### 7 . Write a function which will  return list of all the file name from a directory . "
   ]
  },
  {
   "cell_type": "code",
   "execution_count": 35,
   "id": "8a81972c",
   "metadata": {},
   "outputs": [
    {
     "data": {
      "text/plain": [
       "['.ipynb_checkpoints',\n",
       " '07 Functions_Revision.ipynb',\n",
       " 'Assignment 1.ipynb',\n",
       " 'Assignment 2.ipynb',\n",
       " 'cartoon.mp4',\n",
       " 'combined_example.pdf',\n",
       " 'Function and holiday task.ipynb',\n",
       " 'Function.ipynb',\n",
       " 'id.pdf',\n",
       " 'pj.jpg',\n",
       " 'pre.docx',\n",
       " 'task6.mp4']"
      ]
     },
     "execution_count": 35,
     "metadata": {},
     "output_type": "execute_result"
    }
   ],
   "source": [
    "from os import *\n",
    "\n",
    "def file_names(path):\n",
    "    '''\n",
    "    This function gives you list of file names\n",
    "    '''\n",
    "    file_names = listdir(path)\n",
    "    return file_names\n",
    "\n",
    "path ='C:\\\\Users\\\\HP\\\\Documents\\\\I Neuron'\n",
    "file_names(path)"
   ]
  },
  {
   "cell_type": "markdown",
   "id": "69d20919",
   "metadata": {},
   "source": [
    "### 8  . write a function which will be able to show your system configuration . "
   ]
  },
  {
   "cell_type": "code",
   "execution_count": 36,
   "id": "512d1860",
   "metadata": {},
   "outputs": [
    {
     "data": {
      "text/plain": [
       "uname_result(system='Windows', node='DESKTOP-6II3OC6', release='10', version='10.0.19041', machine='AMD64', processor='Intel64 Family 6 Model 142 Stepping 10, GenuineIntel')"
      ]
     },
     "execution_count": 36,
     "metadata": {},
     "output_type": "execute_result"
    }
   ],
   "source": [
    "import platform\n",
    "def sys_info():\n",
    "    '''\n",
    "    This function gives you system information'''\n",
    "    info = platform.uname()\n",
    "    return info\n",
    "sys_info()"
   ]
  },
  {
   "cell_type": "markdown",
   "id": "fc74d60d",
   "metadata": {},
   "source": [
    "### 9 . write a function which will be able to show date and time  ."
   ]
  },
  {
   "cell_type": "code",
   "execution_count": 37,
   "id": "14deb9d8",
   "metadata": {},
   "outputs": [
    {
     "name": "stdout",
     "output_type": "stream",
     "text": [
      "Today's date 2022-03-10\n",
      "Today's time 9 : 34 : 52\n"
     ]
    }
   ],
   "source": [
    "from datetime import *\n",
    "def date_time():\n",
    "    '''\n",
    "    This function gives current date and time'''\n",
    "    current_date = date.today().isoformat()\n",
    "    current_time = datetime.now()\n",
    "    print(\"Today's date\", current_date)\n",
    "    print(\"Today's time\", current_time.hour, ':', current_time.minute, ':', current_time.second)\n",
    "\n",
    "date_time()"
   ]
  },
  {
   "cell_type": "markdown",
   "id": "4eb9ce6b",
   "metadata": {},
   "source": [
    "### 10 . write a function which will be able to read a image file and show it to you ."
   ]
  },
  {
   "cell_type": "code",
   "execution_count": 49,
   "id": "1bb82f12",
   "metadata": {},
   "outputs": [
    {
     "data": {
      "text/plain": [
       "0"
      ]
     },
     "execution_count": 49,
     "metadata": {},
     "output_type": "execute_result"
    }
   ],
   "source": [
    "from PIL import Image\n",
    "  \n",
    "def imge(filename):\n",
    "    '''\n",
    "    This fuction display iamge on screen by Uisng module Pillow (PIL)'''\n",
    "    #Relative Path\n",
    "    img = Image.open(filename)\n",
    "    return 0\n",
    "  \n",
    "imge(\"pj.jpg\")"
   ]
  },
  {
   "cell_type": "code",
   "execution_count": 39,
   "id": "8d6b33c4",
   "metadata": {
    "scrolled": true
   },
   "outputs": [
    {
     "name": "stdout",
     "output_type": "stream",
     "text": [
      "image shown!!\n"
     ]
    }
   ],
   "source": [
    "import cv2\n",
    "\n",
    "def show_iamge(file_name, image_name):\n",
    "    '''\n",
    "    This fuction display iamge on screen by Uisng Computer vision module'''\n",
    "    \n",
    "    # Read RGB image\n",
    "    img = cv2.imread(file_name)\n",
    "\n",
    "    img = cv2.resize(img, (600, 400))\n",
    "    \n",
    "    # Output img with window name as 'my image'\n",
    "    cv2.imshow(image_name, img)\n",
    "    \n",
    "    # Maintain output window utill user presses a key\n",
    "    cv2.waitKey(0)\n",
    "    \n",
    "    # Destroying present windows on screen\n",
    "    cv2.destroyAllWindows()\n",
    "    print('image shown!!')\n",
    "    \n",
    "show_iamge(\"pj.jpg\", 'My Image')"
   ]
  },
  {
   "cell_type": "markdown",
   "id": "8bb913ed",
   "metadata": {},
   "source": [
    "### 11 . write a function which can read video file and play for you . "
   ]
  },
  {
   "cell_type": "code",
   "execution_count": 40,
   "id": "a947442b",
   "metadata": {
    "scrolled": true
   },
   "outputs": [],
   "source": [
    "def play_video(file_name, video_name):\n",
    "    \n",
    "    # Create a VideoCapture object and read from input file\n",
    "    cap = cv2.VideoCapture(file_name)\n",
    "\n",
    "    # Check if camera opened successfully\n",
    "    if (cap.isOpened()== False): \n",
    "        print(\"Error opening video  file\")\n",
    "\n",
    "    # Read until video is completed\n",
    "    while(cap.isOpened()):\n",
    "\n",
    "        # Capture frame-by-frame\n",
    "        ret, frame = cap.read()\n",
    "\n",
    "        frames = cv2.resize(frame, (600, 400))\n",
    "\n",
    "        # Display the resulting frame\n",
    "        cv2.imshow(video_name, frames)\n",
    "\n",
    "        # Press Q on keyboard to exit\n",
    "        if cv2.waitKey(100) and 0xFF == ord('q'):\n",
    "            break\n",
    "\n",
    "        else:\n",
    "            break\n",
    "\n",
    "    # When everything done, release \n",
    "    # the video capture object\n",
    "    cap.release()\n",
    "\n",
    "    # Closes all the frames\n",
    "    cv2.destroyAllWindows()\n",
    "    \n",
    "play_video('task6.mp4', 'Cartoon')"
   ]
  },
  {
   "cell_type": "markdown",
   "id": "3110ab5f",
   "metadata": {},
   "source": [
    "### 12  . write a function which can move a file from one directory to another directory . "
   ]
  },
  {
   "cell_type": "code",
   "execution_count": 24,
   "id": "7f95289a",
   "metadata": {},
   "outputs": [
    {
     "name": "stdout",
     "output_type": "stream",
     "text": [
      "Moved: Pre.pdf\n"
     ]
    }
   ],
   "source": [
    "def move_file(files, source, destination):\n",
    "    '''\n",
    "    This function used to move files form one dir to another dir\n",
    "    \n",
    "    arg:\n",
    "    files : the name of files which you want to move\n",
    "    source : file where files exist\n",
    "    destination : the path where you have to move your files\n",
    "    '''\n",
    "    # iterate files\n",
    "    for file in files:\n",
    "        \n",
    "        # construct full file path\n",
    "        src = source + '\\\\' + file\n",
    "        dest = destination + '\\\\' + file\n",
    "        \n",
    "        # move file\n",
    "        if file:\n",
    "            rename(src, dest)\n",
    "            print('Moved:', file)\n",
    "        else:\n",
    "            print(\"File already exists\")\n",
    "\n",
    "source = \"C:\\\\Users\\\\HP\\\\Documents\\\\I Neuron\"\n",
    "destination = \"C:\\\\Users\\\\HP\\\\Desktop\"\n",
    "files = ['Pre.pdf']\n",
    "move_file(files, source, destination)\n"
   ]
  },
  {
   "cell_type": "markdown",
   "id": "f161aa0a",
   "metadata": {},
   "source": [
    "### 13 . write a function which will be able to shutdonw your system . "
   ]
  },
  {
   "cell_type": "code",
   "execution_count": 13,
   "id": "283dff8a",
   "metadata": {},
   "outputs": [
    {
     "name": "stdout",
     "output_type": "stream",
     "text": [
      "Do you wish to shutdown your computer ? (yes / no): n\n"
     ]
    }
   ],
   "source": [
    "def shutdown(): \n",
    "    permit = input(\"Do you wish to shutdown your computer ? (yes / no): \")\n",
    "    if permit == 'y':\n",
    "        system(\"shutdown -l\")\n",
    "    else:\n",
    "        exit()\n",
    "    \n",
    "shutdown()"
   ]
  },
  {
   "cell_type": "markdown",
   "id": "1a3b7f8c",
   "metadata": {},
   "source": [
    "### 14 . write a function which will be able to access your mail . "
   ]
  },
  {
   "cell_type": "code",
   "execution_count": 27,
   "id": "ff18ef6c",
   "metadata": {},
   "outputs": [
    {
     "name": "stdout",
     "output_type": "stream",
     "text": [
      "Type your Email and press enter: jagtaprathesh1819@gmail.com\n",
      "Type Email which you search for: jagtaprathmesh19@gmail.com\n",
      "Total Messages from jagtaprathmesh19@gmail.com: 3\n",
      "\n",
      "===========================================\n",
      "Subject:  Fwd: Fwd:\n",
      "To: Prathmesh Jagtap <jagtaprathesh1819@gmail.com>\n",
      "From:  Prathmesh Jagtap <jagtaprathmesh19@gmail.com>\n",
      "Date:  Sun, 6 Feb 2022 18:05:01 +0000\n",
      "Message: \n",
      " \n",
      "\n",
      "Get Outlook for Android<https://aka.ms/AAb9ysg>\n",
      "________________________________\n",
      "From: Adhyant Patil <adhyant@gmail.com>\n",
      "Sent: Sunday, February 6, 2022 11:29:53 PM\n",
      "To: jagtaprathmesh19@gmail.com <jagtaprathmesh19@gmail.com>\n",
      "Subject: Fwd:\n",
      "\n",
      "\n",
      "\n",
      "---------- Forwarded message ---------\n",
      "From: Arunodaya <arunodaya_94@yahoo.co.in<mailto:arunodaya_94@yahoo.co.in>>\n",
      "Date: Sat, 5 Feb 2022 at 18:32\n",
      "Subject:\n",
      "To: adhyant@gmail.com<mailto:adhyant@gmail.com> <adhyant@gmail.com<mailto:adhyant@gmail.com>>\n",
      "\n",
      "\n",
      "\n",
      "\n",
      "\n",
      "--\n",
      "Ceaseless Info tech Pvt. Ltd.\n",
      "       +91-9179886322\n",
      "\n",
      "==========================================\n",
      "\n",
      "\n",
      "===========================================\n",
      "Subject:  \n",
      "To: Prathmesh Jagtap <jagtaprathesh1819@gmail.com>\n",
      "From:  Prathmesh Jagtap <jagtaprathmesh19@gmail.com>\n",
      "Date:  Mon, 7 Feb 2022 13:47:18 +0000\n",
      "Message: \n",
      " \n",
      "\n",
      "Get Outlook for Android<https://aka.ms/AAb9ysg>\n",
      "\n",
      "==========================================\n",
      "\n",
      "\n",
      "===========================================\n",
      "Subject:  \n",
      "To: Prathmesh Jagtap <jagtaprathesh1819@gmail.com>\n",
      "From:  Prathmesh Jagtap <jagtaprathmesh19@gmail.com>\n",
      "Date:  Wed, 9 Mar 2022 03:12:28 +0000\n",
      "Message: \n",
      " Hii checking the python function\n",
      "\n",
      "Get Outlook for Android<https://aka.ms/AAb9ysg>\n",
      "\n",
      "==========================================\n",
      "\n"
     ]
    }
   ],
   "source": [
    "#modules\n",
    "import imaplib\n",
    "import email\n",
    "\n",
    "def get_mails(username, app_password, sender):\n",
    "    \n",
    "    # https://www.systoolsgroup.com/imap/\n",
    "    gmail_host= 'imap.gmail.com'\n",
    "\n",
    "    #set connection\n",
    "    mail = imaplib.IMAP4_SSL(gmail_host)\n",
    "\n",
    "    #login\n",
    "    mail.login(username, app_password)\n",
    "\n",
    "    #select inbox\n",
    "    mail.select(\"INBOX\")\n",
    "\n",
    "    #select specific mails\n",
    "    _, selected_mails = mail.search(None, 'FROM', sender)\n",
    "\n",
    "    #total number of mails from specific user\n",
    "    print(\"Total Messages from {}:\".format(sender), len(selected_mails[0].split()))\n",
    "\n",
    "    for num in selected_mails[0].split():\n",
    "        _, data = mail.fetch(num , '(RFC822)')\n",
    "        _, bytes_data = data[0]\n",
    "\n",
    "        #convert the byte data to message\n",
    "        email_message = email.message_from_bytes(bytes_data)\n",
    "        print(\"\\n===========================================\")\n",
    "\n",
    "        #access data\n",
    "        print(\"Subject: \",email_message[\"subject\"])\n",
    "        print(\"To:\", email_message[\"to\"])\n",
    "        print(\"From: \",email_message[\"from\"])\n",
    "        print(\"Date: \",email_message[\"date\"])\n",
    "        for part in email_message.walk():\n",
    "            if part.get_content_type()==\"text/plain\" or part.get_content_type()==\"text/html\":\n",
    "                message = part.get_payload(decode=True)\n",
    "                print(\"Message: \\n\", message.decode())\n",
    "                print(\"==========================================\\n\")\n",
    "                break\n",
    "\n",
    "                \n",
    "#credentials\n",
    "username = input(\"Type your Email and press enter: \")\n",
    "\n",
    "#generated app password\n",
    "app_password= \"**************\"\n",
    "\n",
    "sender = input('Type Email which you search for: ')\n",
    "\n",
    "get_mails(username, app_password, sender)"
   ]
  },
  {
   "cell_type": "markdown",
   "id": "db55ca88",
   "metadata": {},
   "source": [
    "### 15 . write a func by which i can send a mail to anyone "
   ]
  },
  {
   "cell_type": "code",
   "execution_count": 29,
   "id": "aa8720a2",
   "metadata": {
    "collapsed": true
   },
   "outputs": [
    {
     "name": "stdout",
     "output_type": "stream",
     "text": [
      "Enter your address :jagtaprathesh1819@gmail.com\n",
      "Enter receiver address :jagtaprathmesh19@gmail.com, raginiyadav180901@gmail.com\n",
      "Enter your Password :vqjvepsrgpllxhkv\n",
      "Enter your message : Helloooooooo, I am using Python !!!!\n"
     ]
    },
    {
     "data": {
      "text/plain": [
       "'Message Send Successfully'"
      ]
     },
     "execution_count": 29,
     "metadata": {},
     "output_type": "execute_result"
    }
   ],
   "source": [
    "# Python code to illustrate Sending mail from \n",
    "# your Gmail account \n",
    "import smtplib, ssl\n",
    "\n",
    "def send_email(sender_email, receiver_email, password, message):\n",
    "    for dest in receiver_email:\n",
    "        context = ssl.create_default_context()\n",
    "        with smtplib.SMTP_SSL(\"smtp.gmail.com\", 465, context=context) as s:\n",
    "            s.login(sender_email, password)\n",
    "            s.sendmail(sender_email, dest, message)\n",
    "            s.quit()\n",
    "    return (\"Message Send Successfully\")\n",
    "\n",
    "sender_email = input(\"Enter your address :\")                  # \"jagtaprathesh1819@gmail.com\"\n",
    "receiver_email = (input(\"Enter receiver address :\").split(\",\"))  # \"jagtaprathmesh19@gmail.com\"\n",
    "password = input(\"Enter your Password :\")                     # \"*************\"\n",
    "message = input(\"\"\"Enter your message : \"\"\")\n",
    "\n",
    "send_email(sender_email, receiver_email, password, message)"
   ]
  },
  {
   "cell_type": "markdown",
   "id": "e6645d62",
   "metadata": {},
   "source": [
    "### 16 . write a func to read a complete PDf file. "
   ]
  },
  {
   "cell_type": "code",
   "execution_count": 3,
   "id": "d974e529",
   "metadata": {},
   "outputs": [
    {
     "name": "stdout",
     "output_type": "stream",
     "text": [
      "\n",
      "    Information about Pre.pdf: \n",
      "\n",
      "    Author: HP\n",
      "    Creator: WPS Writer\n",
      "    Producer: \n",
      "    Subject: \n",
      "    Title: \n",
      "    Number of pages: 1\n",
      "    \n"
     ]
    }
   ],
   "source": [
    "# extract_doc_info.py\n",
    "\n",
    "from PyPDF2 import PdfFileReader\n",
    "\n",
    "def pdf_reading(pdf_path):\n",
    "    with open(pdf_path, 'rb') as f:\n",
    "        pdf = PdfFileReader(f)\n",
    "        information = pdf.getDocumentInfo()\n",
    "        number_of_pages = pdf.getNumPages()\n",
    "\n",
    "    txt = f\"\"\"\n",
    "    Information about {pdf_path}: \n",
    "\n",
    "    Author: {information.author}\n",
    "    Creator: {information.creator}\n",
    "    Producer: {information.producer}\n",
    "    Subject: {information.subject}\n",
    "    Title: {information.title}\n",
    "    Number of pages: {number_of_pages}\n",
    "    \"\"\"\n",
    "\n",
    "    print(txt)\n",
    "    return information\n",
    "\n",
    "if __name__ == '__main__':\n",
    "    path = 'Pre.pdf'\n",
    "    pdf_reading(path)"
   ]
  },
  {
   "cell_type": "markdown",
   "id": "71447fa0",
   "metadata": {},
   "source": [
    "### 17 . write a function to read a word file. "
   ]
  },
  {
   "cell_type": "code",
   "execution_count": 41,
   "id": "fc5954a1",
   "metadata": {
    "collapsed": true
   },
   "outputs": [
    {
     "name": "stdout",
     "output_type": "stream",
     "text": [
      "PRATHMESH JAGTAP\n",
      "\n",
      "+91 9658677976 |  jagtaprathmesh19@gmail.com\n",
      "\n",
      "\tGit-hub : https://github.com/prathmesh-jagtap\t\n",
      "\n",
      "\tLinkedin : www.linkedin.com/in/prathmesh-jagtap-3a05b7194\n",
      "\n",
      "\n",
      "\n",
      "I completed my bachelor in computer science with a keen interest and practical exposure to programming and statistics. As a more interested, I take more knowledge in the field of data science which is a mixture of statistics, maths and programming (python).\n",
      "\n",
      "\n",
      "\n",
      "Academic Qualifications\n",
      "\n",
      "Degree/Certificates\n",
      "\n",
      "Institutions\n",
      "\n",
      "Percentage%\n",
      "\n",
      "Completion\n",
      "\n",
      "B.sc (Computer Science & Statistics)\n",
      "\n",
      "Govt. Madhav Science College, Ujjain\n",
      "\n",
      "74%\n",
      "\n",
      "2021\n",
      "\n",
      "XII\n",
      "\n",
      "Bhartiya Gyanpeeth, MP BOARD\n",
      "\n",
      "84%\n",
      "\n",
      "2018\n",
      "\n",
      "MPBSE(X)\n",
      "\n",
      "Bhartiya Gyanpeeth, MP BOARD\n",
      "\n",
      "74%\n",
      "\n",
      "2016\n",
      "\n",
      "\n",
      "\n",
      "Technical Skills   Programming Languages –  C/ C++, Python/Libraries, SQL.\n",
      "\n",
      "\t\t\tWeb Technologies – WordPress, MySQL. HTML, CSS\n",
      "\n",
      "\t\t\tOperating System - Windows, Mac.\n",
      "\n",
      "\t\t\tOther Skills - Data Science, Machine Learning/Deep Learning, Power BI, Excel, word.\n",
      "\n",
      "\n",
      "\n",
      "Internships\n",
      "\n",
      "\tWeb Development intern.                                                                                                            Aug - Sep’20\n",
      "\n",
      "Worked on the front-end development of a new portal using WordPress. In this one month internship, I have developed a website. For this, I used different widgets and frames. I use different features and colours as per the requirement and make the website attractive.Received the desired amount from the owner of the organization.\n",
      "\n",
      "\n",
      "\n",
      "Data Science Internship \n",
      "\n",
      "Packt Publishing Pvt. Ltd                                                                                                                     Aug - Oct 21\n",
      "\n",
      "The main objective of this project is to find Which is the most important factor that contributes to the high retention rate?, Which analytics model can accurately predict a customer’s churn rate?, Deploy the machine learning model using Flask API and pickle files. Design a UI for entering model inputs and display results accordingly.\n",
      "\n",
      "\n",
      "\n",
      "Key Projects\n",
      "\n",
      "Finding best place for opening new mall(ML/DL)                                                     May - June 2021\n",
      "\n",
      "As part of the course, I used techniques like k-means clustering and cross-validation in machine learning to achieve an accuracy of 95.6% in detecting patterns that which place is best to open a mall. I used that model to predict which location is best for opening a new mall. I used different dependencies of python to extract, clean and transform data for processing and applying different methods to visualize the best results.\n",
      "\n",
      "\t\n",
      "\n",
      "Trainings & Certifications\n",
      "\n",
      "\t\t\t\tIBM Data Science, ten weeks and hands on project.                                                                           Jan - Mar 2021\n",
      "\n",
      "\t\t\t\tPython For Everybody, five weeks course and hands on project.                                                       Oct - Nov 2019\n",
      "\n",
      "\t\t\t\tAttended two days of Events on Microsoft Azure Virtual Training Day: Fundamentals                    Mar 2021\n",
      "\n",
      "\t\t\t\n",
      "\n",
      "\n",
      "\n",
      "Position of Responsibility\n",
      "\n",
      "\t\t\n",
      "\n",
      "\t\t\tCertificate of participation in National Level Quiz on 'Use of Python in Data Science, IOT and Machine Learning'.\n",
      "\n",
      "\t\tIT and Web Application Developer -  Next Venture Education\n",
      "\n",
      "\t\tPart of Ngo  - Sparsh Welfare Society, Ujjain\n"
     ]
    }
   ],
   "source": [
    "import docx2txt\n",
    "\n",
    "def read_docx(filename):\n",
    "    my_text = docx2txt.process(filename)\n",
    "    print(my_text)\n",
    "\n",
    "read_docx(\"pre.docx\")"
   ]
  },
  {
   "cell_type": "markdown",
   "id": "257256ef",
   "metadata": {},
   "source": [
    "### 18 . write a function which can help you to filter only word file from a directory . "
   ]
  },
  {
   "cell_type": "code",
   "execution_count": 42,
   "id": "ebb73a4c",
   "metadata": {},
   "outputs": [
    {
     "name": "stdout",
     "output_type": "stream",
     "text": [
      "pre.docx\n"
     ]
    }
   ],
   "source": [
    "def find_docx(path):\n",
    "    file_names = listdir(path)\n",
    "    for i in file_names:\n",
    "        if i.endswith(\".docx\"):\n",
    "            print(i)\n",
    "    \n",
    "path ='C:\\\\Users\\\\HP\\\\Documents\\\\I Neuron'\n",
    "find_docx(path)"
   ]
  },
  {
   "cell_type": "markdown",
   "id": "f8350eb3",
   "metadata": {},
   "source": [
    "### 19 . write a function by which you can print an ip address of your system . "
   ]
  },
  {
   "cell_type": "code",
   "execution_count": 47,
   "id": "104b8d76",
   "metadata": {},
   "outputs": [
    {
     "name": "stdout",
     "output_type": "stream",
     "text": [
      "Your Computer Name is: DESKTOP-6II3OC6\n",
      "Your Computer IP Address is: ***.***.**.*\n"
     ]
    }
   ],
   "source": [
    "# Python Program to Get IP Address\n",
    "import socket\n",
    "\n",
    "def get_IPAddrs():\n",
    "    hostname = socket.gethostname()\n",
    "    IPAddr = socket.gethostbyname(hostname)\n",
    "    print(\"Your Computer Name is:\", hostname)\n",
    "    print(\"Your Computer IP Address is: ***.***.**.*\")\n",
    "\n",
    "get_IPAddrs()"
   ]
  },
  {
   "cell_type": "markdown",
   "id": "9843f406",
   "metadata": {},
   "source": [
    "### 20 . write a function by which you will be able to append two PDF files . "
   ]
  },
  {
   "cell_type": "code",
   "execution_count": 48,
   "id": "dc3b23eb",
   "metadata": {},
   "outputs": [
    {
     "ename": "TypeError",
     "evalue": "an integer is required (got type str)",
     "output_type": "error",
     "traceback": [
      "\u001b[1;31m---------------------------------------------------------------------------\u001b[0m",
      "\u001b[1;31mTypeError\u001b[0m                                 Traceback (most recent call last)",
      "\u001b[1;32m<ipython-input-48-b0a5add0f9c8>\u001b[0m in \u001b[0;36m<module>\u001b[1;34m\u001b[0m\n\u001b[0;32m     28\u001b[0m \u001b[1;32mif\u001b[0m \u001b[0m__name__\u001b[0m \u001b[1;33m==\u001b[0m \u001b[1;34m\"__main__\"\u001b[0m\u001b[1;33m:\u001b[0m\u001b[1;33m\u001b[0m\u001b[1;33m\u001b[0m\u001b[0m\n\u001b[0;32m     29\u001b[0m         \u001b[1;31m# calling the main function\u001b[0m\u001b[1;33m\u001b[0m\u001b[1;33m\u001b[0m\u001b[1;33m\u001b[0m\u001b[0m\n\u001b[1;32m---> 30\u001b[1;33m         \u001b[0mmain\u001b[0m\u001b[1;33m(\u001b[0m\u001b[1;33m)\u001b[0m\u001b[1;33m\u001b[0m\u001b[1;33m\u001b[0m\u001b[0m\n\u001b[0m\u001b[0;32m     31\u001b[0m \u001b[0mprint\u001b[0m\u001b[1;33m(\u001b[0m\u001b[1;34m\"PDFs Merged\"\u001b[0m\u001b[1;33m)\u001b[0m\u001b[1;33m\u001b[0m\u001b[1;33m\u001b[0m\u001b[0m\n\u001b[0;32m     32\u001b[0m \u001b[1;33m\u001b[0m\u001b[0m\n",
      "\u001b[1;32m<ipython-input-48-b0a5add0f9c8>\u001b[0m in \u001b[0;36mmain\u001b[1;34m()\u001b[0m\n\u001b[0;32m     23\u001b[0m \u001b[1;33m\u001b[0m\u001b[0m\n\u001b[0;32m     24\u001b[0m         \u001b[1;31m# calling pdf merge function\u001b[0m\u001b[1;33m\u001b[0m\u001b[1;33m\u001b[0m\u001b[1;33m\u001b[0m\u001b[0m\n\u001b[1;32m---> 25\u001b[1;33m         \u001b[0mPDFmerge\u001b[0m\u001b[1;33m(\u001b[0m\u001b[0mpdfs\u001b[0m\u001b[1;33m=\u001b[0m\u001b[0mpdfs\u001b[0m\u001b[1;33m,\u001b[0m \u001b[0moutput\u001b[0m\u001b[1;33m=\u001b[0m\u001b[0moutput\u001b[0m\u001b[1;33m)\u001b[0m\u001b[1;33m\u001b[0m\u001b[1;33m\u001b[0m\u001b[0m\n\u001b[0m\u001b[0;32m     26\u001b[0m \u001b[1;33m\u001b[0m\u001b[0m\n\u001b[0;32m     27\u001b[0m \u001b[1;33m\u001b[0m\u001b[0m\n",
      "\u001b[1;32m<ipython-input-48-b0a5add0f9c8>\u001b[0m in \u001b[0;36mPDFmerge\u001b[1;34m(pdfs, output)\u001b[0m\n\u001b[0;32m     11\u001b[0m \u001b[1;33m\u001b[0m\u001b[0m\n\u001b[0;32m     12\u001b[0m         \u001b[1;31m# writing combined pdf to output pdf file\u001b[0m\u001b[1;33m\u001b[0m\u001b[1;33m\u001b[0m\u001b[1;33m\u001b[0m\u001b[0m\n\u001b[1;32m---> 13\u001b[1;33m         \u001b[1;32mwith\u001b[0m \u001b[0mopen\u001b[0m\u001b[1;33m(\u001b[0m\u001b[0moutput\u001b[0m\u001b[1;33m,\u001b[0m \u001b[1;34m'wb'\u001b[0m\u001b[1;33m)\u001b[0m \u001b[1;32mas\u001b[0m \u001b[0mf\u001b[0m\u001b[1;33m:\u001b[0m\u001b[1;33m\u001b[0m\u001b[1;33m\u001b[0m\u001b[0m\n\u001b[0m\u001b[0;32m     14\u001b[0m                 \u001b[0mpdf_merger\u001b[0m\u001b[1;33m.\u001b[0m\u001b[0mwrite\u001b[0m\u001b[1;33m(\u001b[0m\u001b[0mf\u001b[0m\u001b[1;33m)\u001b[0m\u001b[1;33m\u001b[0m\u001b[1;33m\u001b[0m\u001b[0m\n\u001b[0;32m     15\u001b[0m \u001b[1;33m\u001b[0m\u001b[0m\n",
      "\u001b[1;31mTypeError\u001b[0m: an integer is required (got type str)"
     ]
    }
   ],
   "source": [
    "# importing required modules\n",
    "import PyPDF2\n",
    "\n",
    "def PDFmerge(pdfs, output):\n",
    "\t# creating pdf file merger object\n",
    "\tpdf_merger = PyPDF2.PdfFileMerger()\n",
    "\n",
    "\t# appending pdfs one by one\n",
    "\tfor pdf in pdfs:\n",
    "\t\tpdf_merger.append(pdf)\n",
    "\n",
    "\t# writing combined pdf to output pdf file\n",
    "\twith open(output, 'wb') as f:\n",
    "\t\tpdf_merger.write(f)\n",
    "\n",
    "\n",
    "def main():\n",
    "\t# pdf files to merge\n",
    "\tpdfs = ['id.pdf', 'Pre.pdf']\n",
    "\n",
    "\t# output pdf file name\n",
    "\toutput = 'combined_example.pdf'\n",
    "\n",
    "\t# calling pdf merge function\n",
    "\tPDFmerge(pdfs=pdfs, output=output)\n",
    "\n",
    "\n",
    "if __name__ == \"__main__\":\n",
    "\t# calling the main function\n",
    "\tmain()\n",
    "print(\"PDFs Merged\")\n",
    "\n"
   ]
  },
  {
   "cell_type": "code",
   "execution_count": null,
   "id": "074c08fc",
   "metadata": {},
   "outputs": [],
   "source": []
  }
 ],
 "metadata": {
  "kernelspec": {
   "display_name": "Python 3",
   "language": "python",
   "name": "python3"
  },
  "language_info": {
   "codemirror_mode": {
    "name": "ipython",
    "version": 3
   },
   "file_extension": ".py",
   "mimetype": "text/x-python",
   "name": "python",
   "nbconvert_exporter": "python",
   "pygments_lexer": "ipython3",
   "version": "3.8.5"
  }
 },
 "nbformat": 4,
 "nbformat_minor": 5
}
