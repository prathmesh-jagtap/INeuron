{
 "cells": [
  {
   "cell_type": "markdown",
   "id": "d837b211",
   "metadata": {},
   "source": [
    "# <center><u>INeuron Assignment 4</u></center>"
   ]
  },
  {
   "cell_type": "markdown",
   "id": "ddf304ae",
   "metadata": {},
   "source": [
    "### Q-1. Write an SQL query to print the FIRST_NAME from Worker table after replacing ‘a’ with ‘A’.\n",
    "Query:-\n",
    "```sql\n",
    "SELECT \n",
    "    REPLACE(FIRST_NAME , 'a', 'A')\n",
    "FROM\n",
    "    Worker;\n",
    "```"
   ]
  },
  {
   "cell_type": "markdown",
   "id": "c16e2a32",
   "metadata": {},
   "source": [
    "### Q-2. Write an SQL query to print all Worker details from the Worker table order by FIRST_NAME Ascending and DEPARTMENT Descending.\n",
    "Query:-\n",
    "```SQL\n",
    "SELECT \n",
    "    *\n",
    "FROM\n",
    "    Worker\n",
    "ORDER BY FIRST_NAME ASC , DEPARTMENT DESC;\n",
    "```"
   ]
  },
  {
   "cell_type": "markdown",
   "id": "1a7e1a2b",
   "metadata": {},
   "source": [
    "### Q-3. Write an SQL query to fetch the names of workers who earn the highest salary.\n",
    "Query:-\n",
    "```sql\n",
    "SELECT \n",
    "    FIRST_NAME\n",
    "FROM\n",
    "    Worker\n",
    "ORDER BY salary DESC\n",
    "LIMIT 5;\n",
    "```"
   ]
  },
  {
   "cell_type": "code",
   "execution_count": null,
   "id": "bc95d343",
   "metadata": {},
   "outputs": [],
   "source": []
  }
 ],
 "metadata": {
  "kernelspec": {
   "display_name": "Python 3",
   "language": "python",
   "name": "python3"
  },
  "language_info": {
   "codemirror_mode": {
    "name": "ipython",
    "version": 3
   },
   "file_extension": ".py",
   "mimetype": "text/x-python",
   "name": "python",
   "nbconvert_exporter": "python",
   "pygments_lexer": "ipython3",
   "version": "3.8.5"
  },
  "varInspector": {
   "cols": {
    "lenName": 16,
    "lenType": 16,
    "lenVar": 40
   },
   "kernels_config": {
    "python": {
     "delete_cmd_postfix": "",
     "delete_cmd_prefix": "del ",
     "library": "var_list.py",
     "varRefreshCmd": "print(var_dic_list())"
    },
    "r": {
     "delete_cmd_postfix": ") ",
     "delete_cmd_prefix": "rm(",
     "library": "var_list.r",
     "varRefreshCmd": "cat(var_dic_list()) "
    }
   },
   "types_to_exclude": [
    "module",
    "function",
    "builtin_function_or_method",
    "instance",
    "_Feature"
   ],
   "window_display": false
  }
 },
 "nbformat": 4,
 "nbformat_minor": 5
}
