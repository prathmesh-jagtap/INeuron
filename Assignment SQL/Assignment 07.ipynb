{
 "cells": [
  {
   "cell_type": "markdown",
   "id": "b25f3d5d",
   "metadata": {},
   "source": [
    "# <center><u>INeuron Assignment 7</u></center>"
   ]
  },
  {
   "cell_type": "markdown",
   "id": "6ac2efe2",
   "metadata": {},
   "source": [
    "### Q-13. Write an SQL query to show only odd rows from a table.\n",
    "Query:-\n",
    "```sql\n",
    "SELECT *\n",
    "FROM (\n",
    "    SELECT * , Row_Number() OVER(ORDER BY ID) AS RowNumber \n",
    "            -- Row_Number() starts with 1\n",
    "    FROM Worker\n",
    ") t\n",
    "WHERE t.RowNumber % 2 = 1 -- Odd\n",
    "```"
   ]
  },
  {
   "cell_type": "markdown",
   "id": "6e405a1e",
   "metadata": {},
   "source": [
    "### Q-14. Write an SQL query to clone a new table from another table.\n",
    "Query:-\n",
    "```sql\n",
    "CREATE TABLE new_table_name -- table name for cloning\n",
    "AS\n",
    "SELECT \n",
    "  * \n",
    "FROM another_table_name; -- tbale name which we have to make clone.\n",
    "                                    \n",
    "```"
   ]
  },
  {
   "cell_type": "code",
   "execution_count": null,
   "id": "0d2b99b1",
   "metadata": {},
   "outputs": [],
   "source": []
  }
 ],
 "metadata": {
  "kernelspec": {
   "display_name": "Python 3",
   "language": "python",
   "name": "python3"
  },
  "language_info": {
   "codemirror_mode": {
    "name": "ipython",
    "version": 3
   },
   "file_extension": ".py",
   "mimetype": "text/x-python",
   "name": "python",
   "nbconvert_exporter": "python",
   "pygments_lexer": "ipython3",
   "version": "3.8.5"
  },
  "varInspector": {
   "cols": {
    "lenName": 16,
    "lenType": 16,
    "lenVar": 40
   },
   "kernels_config": {
    "python": {
     "delete_cmd_postfix": "",
     "delete_cmd_prefix": "del ",
     "library": "var_list.py",
     "varRefreshCmd": "print(var_dic_list())"
    },
    "r": {
     "delete_cmd_postfix": ") ",
     "delete_cmd_prefix": "rm(",
     "library": "var_list.r",
     "varRefreshCmd": "cat(var_dic_list()) "
    }
   },
   "types_to_exclude": [
    "module",
    "function",
    "builtin_function_or_method",
    "instance",
    "_Feature"
   ],
   "window_display": false
  }
 },
 "nbformat": 4,
 "nbformat_minor": 5
}
