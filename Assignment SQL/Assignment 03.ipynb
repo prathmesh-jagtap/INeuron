{
 "cells": [
  {
   "cell_type": "markdown",
   "id": "2d8f3754",
   "metadata": {},
   "source": [
    "# <center><u>INeuron Assignment 3</u></center>"
   ]
  },
  {
   "cell_type": "markdown",
   "id": "e482ddc8",
   "metadata": {},
   "source": [
    "### Q-1. Write an SQL query to print the FIRST_NAME from Worker table after removing white spaces from the right side.\n",
    "\n",
    "Query:-\n",
    "```sql\n",
    "SELECT\n",
    "    RTRIM(FIRST_NAME) AS FIRST_NAME\n",
    "FROM\n",
    "    WORKER;\n",
    "```"
   ]
  },
  {
   "cell_type": "markdown",
   "id": "3c01e93a",
   "metadata": {},
   "source": [
    "### Q-2. Write an SQL query that fetches the unique values of DEPARTMENT from Worker table and prints its length.\n",
    "\n",
    "Query:-\n",
    "```sql\n",
    "SELECT DISTINCT\n",
    "    CHAR_LENGTH(DEPARTMENT) AS len_department_string\n",
    "FROM\n",
    "    Worker;\n",
    "```"
   ]
  },
  {
   "cell_type": "markdown",
   "id": "d0082340",
   "metadata": {},
   "source": [
    "### Q-3. Write an SQL query to fetch nth max salaries from a table.\n",
    "\n",
    "Query:-\n",
    "``` sql\n",
    "SELECT \n",
    "    salary\n",
    "FROM\n",
    "    department\n",
    "ORDER BY salary DESC\n",
    "LIMIT N-1 , 1; /* N is the nth highest salary */\n",
    "```"
   ]
  },
  {
   "cell_type": "code",
   "execution_count": null,
   "id": "e7b13fa2",
   "metadata": {},
   "outputs": [],
   "source": []
  }
 ],
 "metadata": {
  "kernelspec": {
   "display_name": "Python 3",
   "language": "python",
   "name": "python3"
  },
  "language_info": {
   "codemirror_mode": {
    "name": "ipython",
    "version": 3
   },
   "file_extension": ".py",
   "mimetype": "text/x-python",
   "name": "python",
   "nbconvert_exporter": "python",
   "pygments_lexer": "ipython3",
   "version": "3.8.5"
  },
  "varInspector": {
   "cols": {
    "lenName": 16,
    "lenType": 16,
    "lenVar": 40
   },
   "kernels_config": {
    "python": {
     "delete_cmd_postfix": "",
     "delete_cmd_prefix": "del ",
     "library": "var_list.py",
     "varRefreshCmd": "print(var_dic_list())"
    },
    "r": {
     "delete_cmd_postfix": ") ",
     "delete_cmd_prefix": "rm(",
     "library": "var_list.r",
     "varRefreshCmd": "cat(var_dic_list()) "
    }
   },
   "types_to_exclude": [
    "module",
    "function",
    "builtin_function_or_method",
    "instance",
    "_Feature"
   ],
   "window_display": false
  }
 },
 "nbformat": 4,
 "nbformat_minor": 5
}
