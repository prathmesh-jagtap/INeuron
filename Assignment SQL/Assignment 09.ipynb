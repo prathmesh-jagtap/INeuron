{
 "cells": [
  {
   "cell_type": "markdown",
   "id": "7fa3cbb3",
   "metadata": {},
   "source": [
    "# <center><u>INeuron Assignment 9</u></center>"
   ]
  },
  {
   "cell_type": "markdown",
   "id": "a11cdaa9",
   "metadata": {},
   "source": [
    "### Q-17. Write an SQL query to show the top n (say 10) records of a table.\n",
    "Query:-\n",
    "```sql\n",
    "SELECT * FROM TABLE_NAME LIMIT 10;\n",
    "```"
   ]
  },
  {
   "cell_type": "markdown",
   "id": "9de8e8a0",
   "metadata": {},
   "source": [
    "### Q-18. Write an SQL query to determine the nth (say n=5) highest salary from a table.\n",
    "Query:-\n",
    "```sql\n",
    "SELECT \n",
    "    salary\n",
    "FROM\n",
    "    employees\n",
    "ORDER BY salary DESC\n",
    "LIMIT n-1, 1;\n",
    "```"
   ]
  },
  {
   "cell_type": "code",
   "execution_count": null,
   "id": "8c55797c",
   "metadata": {},
   "outputs": [],
   "source": []
  }
 ],
 "metadata": {
  "kernelspec": {
   "display_name": "Python 3",
   "language": "python",
   "name": "python3"
  },
  "language_info": {
   "codemirror_mode": {
    "name": "ipython",
    "version": 3
   },
   "file_extension": ".py",
   "mimetype": "text/x-python",
   "name": "python",
   "nbconvert_exporter": "python",
   "pygments_lexer": "ipython3",
   "version": "3.8.5"
  },
  "varInspector": {
   "cols": {
    "lenName": 16,
    "lenType": 16,
    "lenVar": 40
   },
   "kernels_config": {
    "python": {
     "delete_cmd_postfix": "",
     "delete_cmd_prefix": "del ",
     "library": "var_list.py",
     "varRefreshCmd": "print(var_dic_list())"
    },
    "r": {
     "delete_cmd_postfix": ") ",
     "delete_cmd_prefix": "rm(",
     "library": "var_list.r",
     "varRefreshCmd": "cat(var_dic_list()) "
    }
   },
   "types_to_exclude": [
    "module",
    "function",
    "builtin_function_or_method",
    "instance",
    "_Feature"
   ],
   "window_display": false
  }
 },
 "nbformat": 4,
 "nbformat_minor": 5
}
