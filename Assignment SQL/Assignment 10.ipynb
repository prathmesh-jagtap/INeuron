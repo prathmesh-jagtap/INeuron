{
 "cells": [
  {
   "cell_type": "markdown",
   "id": "a3b049ce",
   "metadata": {},
   "source": [
    "# <center><u>INeuron Assignment 10</u></center>"
   ]
  },
  {
   "cell_type": "markdown",
   "id": "ee56f84e",
   "metadata": {},
   "source": [
    "### Q-19. Write an SQL query to determine the 5th highest salary without using TOP or limit method.\n",
    "Query:-\n",
    "```sql\n",
    "WITH n_highest_sal as (\n",
    "                select *,\n",
    "                DENSE_RANK () over (order by salary desc) as n\n",
    "                from employees)\n",
    "select \n",
    "    * \n",
    "from \n",
    "    n_highest_sal \n",
    "    where n = 2;\n",
    "```"
   ]
  },
  {
   "cell_type": "markdown",
   "id": "7dda87dd",
   "metadata": {},
   "source": [
    "### Q-20. Write an SQL query to fetch the list of employees with the same salary.\n",
    "Query:-\n",
    "```sql\n",
    "SELECT \n",
    "    E1.Name, E1.salary\n",
    "FROM\n",
    "    employees E1,\n",
    "    employees E2\n",
    "WHERE\n",
    "    E1.salary = E2.salary\n",
    "        AND E1.Name <> E2.Name\n",
    "ORDER BY salary DESC;\n",
    "```"
   ]
  },
  {
   "cell_type": "code",
   "execution_count": null,
   "id": "bbb391cd",
   "metadata": {},
   "outputs": [],
   "source": []
  }
 ],
 "metadata": {
  "kernelspec": {
   "display_name": "Python 3",
   "language": "python",
   "name": "python3"
  },
  "language_info": {
   "codemirror_mode": {
    "name": "ipython",
    "version": 3
   },
   "file_extension": ".py",
   "mimetype": "text/x-python",
   "name": "python",
   "nbconvert_exporter": "python",
   "pygments_lexer": "ipython3",
   "version": "3.8.5"
  },
  "varInspector": {
   "cols": {
    "lenName": 16,
    "lenType": 16,
    "lenVar": 40
   },
   "kernels_config": {
    "python": {
     "delete_cmd_postfix": "",
     "delete_cmd_prefix": "del ",
     "library": "var_list.py",
     "varRefreshCmd": "print(var_dic_list())"
    },
    "r": {
     "delete_cmd_postfix": ") ",
     "delete_cmd_prefix": "rm(",
     "library": "var_list.r",
     "varRefreshCmd": "cat(var_dic_list()) "
    }
   },
   "types_to_exclude": [
    "module",
    "function",
    "builtin_function_or_method",
    "instance",
    "_Feature"
   ],
   "window_display": false
  }
 },
 "nbformat": 4,
 "nbformat_minor": 5
}
