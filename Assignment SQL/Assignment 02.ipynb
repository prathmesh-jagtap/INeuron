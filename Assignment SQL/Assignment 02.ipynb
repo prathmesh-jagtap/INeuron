{
 "cells": [
  {
   "cell_type": "markdown",
   "id": "40df7d79",
   "metadata": {},
   "source": [
    "# <center><u>INeuron Assignment 2</u></center>"
   ]
  },
  {
   "cell_type": "markdown",
   "id": "d5ba3606",
   "metadata": {},
   "source": [
    "### Q-1. Write an SQL query to print the first three characters of  FIRST_NAME from Worker table.\n",
    "\n",
    "Query:-\n",
    "```sql\n",
    "SELECT SUBSTRING(FIRST_NAME, 1, 3) AS ExtractString\n",
    "FROM Worker;\n",
    "```"
   ]
  },
  {
   "cell_type": "markdown",
   "id": "954a176d",
   "metadata": {},
   "source": [
    "### Q-2. Write an SQL query to find the position of the alphabet (‘a’) in the first name column ‘Amitabh’ from Worker table.\n",
    "\n",
    "Query:-\n",
    "```sql\n",
    "SELECT \n",
    "    FIRST_NAME, POSITION('a' IN 'Amitabh') AS StringPosition\n",
    "FROM\n",
    "    Worker\n",
    "WHERE\n",
    "    FIRST_NAME = 'Amitabh';\n",
    "```"
   ]
  },
  {
   "cell_type": "markdown",
   "id": "4cd495db",
   "metadata": {},
   "source": [
    "### Q-3. Write an SQL query to print the name of employees having the highest salary in each department.\n",
    "\n",
    "Query:-\n",
    "```sql\n",
    "SELECT \n",
    "    Name\n",
    "FROM\n",
    "    department\n",
    "WHERE\n",
    "    SALARY IN (SELECT \n",
    "            MAX(SALARY)\n",
    "        FROM\n",
    "            department\n",
    "        GROUP BY DEPT_ID);\n",
    "```"
   ]
  },
  {
   "cell_type": "code",
   "execution_count": null,
   "id": "acc0a382",
   "metadata": {},
   "outputs": [],
   "source": []
  }
 ],
 "metadata": {
  "kernelspec": {
   "display_name": "Python 3",
   "language": "python",
   "name": "python3"
  },
  "language_info": {
   "codemirror_mode": {
    "name": "ipython",
    "version": 3
   },
   "file_extension": ".py",
   "mimetype": "text/x-python",
   "name": "python",
   "nbconvert_exporter": "python",
   "pygments_lexer": "ipython3",
   "version": "3.8.5"
  },
  "varInspector": {
   "cols": {
    "lenName": 16,
    "lenType": 16,
    "lenVar": 40
   },
   "kernels_config": {
    "python": {
     "delete_cmd_postfix": "",
     "delete_cmd_prefix": "del ",
     "library": "var_list.py",
     "varRefreshCmd": "print(var_dic_list())"
    },
    "r": {
     "delete_cmd_postfix": ") ",
     "delete_cmd_prefix": "rm(",
     "library": "var_list.r",
     "varRefreshCmd": "cat(var_dic_list()) "
    }
   },
   "types_to_exclude": [
    "module",
    "function",
    "builtin_function_or_method",
    "instance",
    "_Feature"
   ],
   "window_display": false
  }
 },
 "nbformat": 4,
 "nbformat_minor": 5
}
