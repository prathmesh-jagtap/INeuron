{
 "cells": [
  {
   "cell_type": "markdown",
   "id": "94c2797f",
   "metadata": {},
   "source": [
    "# <center><u>INeuron Assignment 6</u></center>"
   ]
  },
  {
   "cell_type": "markdown",
   "id": "05931b96",
   "metadata": {},
   "source": [
    "### Q-1. Write an SQL query to print details of the Workers who have joined in Feb’2014.\n",
    "Query:-\n",
    "```sql\n",
    "SELECT \n",
    "    *\n",
    "FROM\n",
    "    Worker\n",
    "WHERE\n",
    "    YEAR(JOINING_DATE) = 2014\n",
    "        AND MONTH(JOINING_DATE) = 2;\n",
    "```"
   ]
  },
  {
   "cell_type": "markdown",
   "id": "8ea76fe2",
   "metadata": {},
   "source": [
    "### Q-2. Write an SQL query to fetch duplicate records having matching data in some fields of a table.\n",
    "Query:-\n",
    "```sql\n",
    "SELECT \n",
    "    fields_name1, fields_name2 COUNT(*)\n",
    "FROM \n",
    "    table_name\n",
    "GROUP BY \n",
    "    fields_name1, fields_name2\n",
    "HAVING COUNT(*) > 1\n",
    "```"
   ]
  },
  {
   "cell_type": "markdown",
   "id": "6b60b183",
   "metadata": {},
   "source": [
    "### Q-3. How to remove duplicate rows from Employees table.\n",
    "Query:-\n",
    "```sql\n",
    "WITH CTE(col1, col2, col3, duplicatecount)\n",
    "      AS (SELECT col1, col2, col3, ROW_NUMBER() \n",
    "                 OVER(PARTITION BY col1, col2, col3\n",
    "                 ORDER BY id) AS DuplicateCount\n",
    "          FROM Employees)\n",
    "          \n",
    "DELETE FROM CTE\n",
    "WHERE DuplicateCount > 1;\n",
    "```"
   ]
  },
  {
   "cell_type": "code",
   "execution_count": null,
   "id": "bb5113d7",
   "metadata": {},
   "outputs": [],
   "source": []
  }
 ],
 "metadata": {
  "kernelspec": {
   "display_name": "Python 3",
   "language": "python",
   "name": "python3"
  },
  "language_info": {
   "codemirror_mode": {
    "name": "ipython",
    "version": 3
   },
   "file_extension": ".py",
   "mimetype": "text/x-python",
   "name": "python",
   "nbconvert_exporter": "python",
   "pygments_lexer": "ipython3",
   "version": "3.8.5"
  },
  "varInspector": {
   "cols": {
    "lenName": 16,
    "lenType": 16,
    "lenVar": 40
   },
   "kernels_config": {
    "python": {
     "delete_cmd_postfix": "",
     "delete_cmd_prefix": "del ",
     "library": "var_list.py",
     "varRefreshCmd": "print(var_dic_list())"
    },
    "r": {
     "delete_cmd_postfix": ") ",
     "delete_cmd_prefix": "rm(",
     "library": "var_list.r",
     "varRefreshCmd": "cat(var_dic_list()) "
    }
   },
   "types_to_exclude": [
    "module",
    "function",
    "builtin_function_or_method",
    "instance",
    "_Feature"
   ],
   "window_display": false
  }
 },
 "nbformat": 4,
 "nbformat_minor": 5
}
