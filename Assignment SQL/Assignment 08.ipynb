{
 "cells": [
  {
   "cell_type": "markdown",
   "id": "8e748022",
   "metadata": {},
   "source": [
    "# <center><u>INeuron Assignment 8</u></center>"
   ]
  },
  {
   "cell_type": "markdown",
   "id": "25b361d1",
   "metadata": {},
   "source": [
    "### Q-15. Write an SQL query to fetch intersecting records of two tables.\n",
    "Query:-\n",
    "```sql\n",
    "SELECT \n",
    "    city.Name, city.countrycode, city.population\n",
    "FROM\n",
    "    city\n",
    "WHERE\n",
    "    EXISTS( SELECT \n",
    "            *\n",
    "        FROM\n",
    "            country\n",
    "        WHERE\n",
    "            city.Name = country.Name \n",
    "            AND city.CountryCode = country.code\n",
    "\t\t\tAND city.population = country.population);\n",
    "```"
   ]
  },
  {
   "cell_type": "markdown",
   "id": "b96cd1c2",
   "metadata": {},
   "source": [
    "### Q-16. Write an SQL query to show records from one table that another table does not have.\n",
    "Query:-\n",
    "```sql\n",
    "SELECT \n",
    "    Name, CountryCode, population\n",
    "FROM\n",
    "    city\n",
    "    \n",
    "UNION  \n",
    "\n",
    "SELECT \n",
    "    Name, code, population\n",
    "FROM\n",
    "    country;\n",
    "```"
   ]
  }
 ],
 "metadata": {
  "kernelspec": {
   "display_name": "Python 3",
   "language": "python",
   "name": "python3"
  },
  "language_info": {
   "codemirror_mode": {
    "name": "ipython",
    "version": 3
   },
   "file_extension": ".py",
   "mimetype": "text/x-python",
   "name": "python",
   "nbconvert_exporter": "python",
   "pygments_lexer": "ipython3",
   "version": "3.8.5"
  },
  "varInspector": {
   "cols": {
    "lenName": 16,
    "lenType": 16,
    "lenVar": 40
   },
   "kernels_config": {
    "python": {
     "delete_cmd_postfix": "",
     "delete_cmd_prefix": "del ",
     "library": "var_list.py",
     "varRefreshCmd": "print(var_dic_list())"
    },
    "r": {
     "delete_cmd_postfix": ") ",
     "delete_cmd_prefix": "rm(",
     "library": "var_list.r",
     "varRefreshCmd": "cat(var_dic_list()) "
    }
   },
   "types_to_exclude": [
    "module",
    "function",
    "builtin_function_or_method",
    "instance",
    "_Feature"
   ],
   "window_display": false
  }
 },
 "nbformat": 4,
 "nbformat_minor": 5
}
