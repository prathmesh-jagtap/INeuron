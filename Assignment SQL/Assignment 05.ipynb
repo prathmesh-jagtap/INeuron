{
 "cells": [
  {
   "cell_type": "markdown",
   "id": "39e4a09d",
   "metadata": {},
   "source": [
    "# <center><u>INeuron Assignment 5</u></center>"
   ]
  },
  {
   "cell_type": "markdown",
   "id": "68bc218a",
   "metadata": {},
   "source": [
    "### Q-1. Write an SQL query to print details of workers excluding first names, “Vipul” and “Satish” from Worker table.\n",
    "Query:-\n",
    "```sql\n",
    "SELECT \n",
    "    *\n",
    "FROM\n",
    "    Worker\n",
    "WHERE\n",
    "    NOT name = “Vipul”\n",
    "        AND NOT name = “Satish”;\n",
    "```"
   ]
  },
  {
   "cell_type": "markdown",
   "id": "655c04f5",
   "metadata": {},
   "source": [
    "### Q-2. Write an SQL query to print details of the Workers whose FIRST_NAME ends with ‘h’ and contains six alphabets.\n",
    "Query:-\n",
    "```sql\n",
    "SELECT \n",
    "    *\n",
    "FROM\n",
    "    Worker\n",
    "WHERE FIRST_NAME like '%_____h';\n",
    "```"
   ]
  },
  {
   "cell_type": "markdown",
   "id": "f74a8d8b",
   "metadata": {},
   "source": [
    "### Q-3. Write a query to validate Email of Employee.\n",
    "Query:-\n",
    "```sql\n",
    "SELECT \n",
    "    * \n",
    "FROM \n",
    "    Worker\n",
    "WHERE employee_email LIKE '%@gmail.com';\n",
    "```"
   ]
  },
  {
   "cell_type": "code",
   "execution_count": null,
   "id": "f58912d1",
   "metadata": {},
   "outputs": [],
   "source": []
  }
 ],
 "metadata": {
  "kernelspec": {
   "display_name": "Python 3",
   "language": "python",
   "name": "python3"
  },
  "language_info": {
   "codemirror_mode": {
    "name": "ipython",
    "version": 3
   },
   "file_extension": ".py",
   "mimetype": "text/x-python",
   "name": "python",
   "nbconvert_exporter": "python",
   "pygments_lexer": "ipython3",
   "version": "3.8.5"
  },
  "varInspector": {
   "cols": {
    "lenName": 16,
    "lenType": 16,
    "lenVar": 40
   },
   "kernels_config": {
    "python": {
     "delete_cmd_postfix": "",
     "delete_cmd_prefix": "del ",
     "library": "var_list.py",
     "varRefreshCmd": "print(var_dic_list())"
    },
    "r": {
     "delete_cmd_postfix": ") ",
     "delete_cmd_prefix": "rm(",
     "library": "var_list.r",
     "varRefreshCmd": "cat(var_dic_list()) "
    }
   },
   "types_to_exclude": [
    "module",
    "function",
    "builtin_function_or_method",
    "instance",
    "_Feature"
   ],
   "window_display": false
  }
 },
 "nbformat": 4,
 "nbformat_minor": 5
}
