{
 "cells": [
  {
   "cell_type": "markdown",
   "id": "c0a3df7e",
   "metadata": {},
   "source": [
    "# <center>INeuron Assignment 4<cneter>"
   ]
  },
  {
   "cell_type": "markdown",
   "id": "c5af07ea",
   "metadata": {},
   "source": [
    " ### 1. What exactly is [ ] ?\n",
    " #### Ans:-\n",
    "This indicates the list data structure in python. When it is defined with a variable it is called an empty list.\n",
    "<hr>"
   ]
  },
  {
   "cell_type": "markdown",
   "id": "12610a45",
   "metadata": {},
   "source": [
    "### 2. In a list of values stored in a variable called spam, how would you assign the value 'hello' as the third value? (Assume [2, 4, 6, 8, 10] are in spam.)\n",
    "#### Ans:- \\\n",
    "We use list insert method to assign the value in a list.\n",
    "As per our statement :"
   ]
  },
  {
   "cell_type": "code",
   "execution_count": 4,
   "id": "58b65a2b",
   "metadata": {},
   "outputs": [
    {
     "data": {
      "text/plain": [
       "[2, 4, 'Hello', 6, 8, 10]"
      ]
     },
     "execution_count": 4,
     "metadata": {},
     "output_type": "execute_result"
    }
   ],
   "source": [
    "spam = [2, 4, 6, 8, 10]\n",
    "spam.insert(2, \"Hello\")\n",
    "spam"
   ]
  },
  {
   "cell_type": "markdown",
   "id": "7c45af80",
   "metadata": {},
   "source": [
    "<hr>"
   ]
  },
  {
   "cell_type": "markdown",
   "id": "bac65222",
   "metadata": {},
   "source": [
    "### 3. What is the value of spam[int(int('3' * 2) / 11)]?\n",
    "#### Ans:- \n",
    "It gives **`6`** as an output which is at index 3 in the spam list.\n",
    "<hr>"
   ]
  },
  {
   "cell_type": "markdown",
   "id": "20b22564",
   "metadata": {},
   "source": [
    "### 4. What is the value of spam[-1]?\n",
    "#### Ans:- \n",
    "The value of spam[-1] is **`10`** because its negative index performs backward slicing.\n",
    "<hr>"
   ]
  },
  {
   "cell_type": "markdown",
   "id": "471e3c47",
   "metadata": {},
   "source": [
    "### 5. What is the value of spam[:2]?\n",
    "#### Ans:- \n",
    "The value of spam[:2] is **`[2, 4]`**\n",
    "<hr>"
   ]
  },
  {
   "cell_type": "markdown",
   "id": "dc6f449e",
   "metadata": {},
   "source": [
    "### `Let's pretend bacon has the list [3.14, 'cat,' 11, 'cat,' True] for the next three questions.`"
   ]
  },
  {
   "cell_type": "markdown",
   "id": "df9f54b6",
   "metadata": {},
   "source": [
    "### 6. What is the value of bacon.index('cat')?\n",
    "#### Ans:- \n",
    "The value of bacon.index('cat') is **`1`**. Here index function iterate over the list bacon and at the first 'cat' it stops iteration and gives the index result.\n",
    "<hr>"
   ]
  },
  {
   "cell_type": "markdown",
   "id": "bd7e156a",
   "metadata": {},
   "source": [
    "### 7. How does bacon.append(99) change the look of the list value in bacon?\n",
    "#### Ans:- \n",
    "bacon.append(99) statement add 99 element at last in list. After performing this statement our list look like this\n",
    "`[3.14, 'cat', 11, 'cat', True, 99]`\n",
    "<hr>"
   ]
  },
  {
   "cell_type": "markdown",
   "id": "2ab011b4",
   "metadata": {},
   "source": [
    "### 8. How does bacon.remove('cat') change the look of the list in bacon?\n",
    "#### Ans:- \n",
    "bacon.remove('cat'), this statement iterate over the bacon list and remove the 'cat' element which is the first occurrence of the list. After performing this statement bacon list look like this `[3.14, 11, 'cat', True, 99]`\n",
    "<hr>"
   ]
  },
  {
   "cell_type": "markdown",
   "id": "8e62401d",
   "metadata": {},
   "source": [
    "### 9. What are the list concatenation and list replication operators?\n",
    "#### Ans:- \n",
    "List concatenation operators is plus sign `+` while list replication operator is multiplication sign `*`.\n",
    "<hr>"
   ]
  },
  {
   "cell_type": "markdown",
   "id": "cd0bbbe2",
   "metadata": {},
   "source": [
    "### 10. What is difference between the list methods append() and insert()?\n",
    "#### Ans:- \n",
    "List append() method work as cconcatenation operation, which concatenate other list or object at the end of list whereas\n",
    "insert method takes two argument `index` and `object` which place our object at the desire position in our list.\n",
    "<hr>"
   ]
  },
  {
   "cell_type": "markdown",
   "id": "0d468892",
   "metadata": {},
   "source": [
    "### 11. What are the two methods for removing items from a list? \n",
    "#### Ans:-\n",
    "The two methods for removing items from a list are pop and remove. The `pop` method takes an index as an argument and removes that object if the list is empty it raises index error or the index is out of range. `remove` method simply take value as argument which we want to delete. If the value is not present then through an error.\n",
    "<hr>"
   ]
  },
  {
   "cell_type": "markdown",
   "id": "bb3ecb07",
   "metadata": {},
   "source": [
    "### 12. Describe how list values and string values are identical.\n",
    "#### Ans:-\n",
    "The values that make up a list are called its elements. Lists are similar to strings, which are ordered collections of characters, except that the elements of a list can have any type and for any one list, the items can be of different types.\n",
    "<hr>"
   ]
  },
  {
   "cell_type": "markdown",
   "id": "90f64e2f",
   "metadata": {},
   "source": [
    "### 13. What's the difference between tuples and lists?\n",
    "#### Ans:-\n",
    "Lists are ordered collections of characters that mean the list can be mutable or changeable using the index method, append method, whereas tuples are immutable means they can't be changed during the runtime. And tuples are more memory efficient than the list.\n",
    "<hr>"
   ]
  },
  {
   "cell_type": "markdown",
   "id": "329130dc",
   "metadata": {},
   "source": [
    "### 14. How do you type a tuple value that only contains the integer 42?\n",
    "#### Ans:-\n",
    "we type `tup = (42, )`.\n",
    "<hr>"
   ]
  },
  {
   "cell_type": "markdown",
   "id": "153c9a69",
   "metadata": {},
   "source": [
    "### 15. How do you get a list value's tuple form? How do you get a tuple value's list form?\n",
    "#### Ans:- \n",
    "To convert list into typle and tuple into list we do type casting. We use `list` and `tuple` data types.\n",
    "for eg:\n",
    "```python\n",
    "\n",
    "# List into tuple\n",
    "List = [1, 2, 'hello', 3, \"hi\"]\n",
    "list_tup = tuple(List) \n",
    "\n",
    "# Tuple into list\n",
    "Tuple = (1, 2, 'hello', 3, \"hi\")\n",
    "tuple_lis = list(Tuple)\n",
    "```"
   ]
  },
  {
   "cell_type": "code",
   "execution_count": 41,
   "id": "ffe9967f",
   "metadata": {},
   "outputs": [],
   "source": [
    "# List into tuple\n",
    "List = [1, 2, 'hello', 3, \"hi\"]\n",
    "list_tup = tuple(List) "
   ]
  },
  {
   "cell_type": "code",
   "execution_count": 42,
   "id": "8057aebb",
   "metadata": {},
   "outputs": [
    {
     "data": {
      "text/plain": [
       "(1, 2, 'hello', 3, 'hi')"
      ]
     },
     "execution_count": 42,
     "metadata": {},
     "output_type": "execute_result"
    }
   ],
   "source": [
    "list_tup"
   ]
  },
  {
   "cell_type": "code",
   "execution_count": 43,
   "id": "59a31654",
   "metadata": {},
   "outputs": [],
   "source": [
    "# Tuple into list\n",
    "Tuple = (1, 2, 'hello', 3, \"hi\")\n",
    "tuple_lis = list(Tuple)"
   ]
  },
  {
   "cell_type": "code",
   "execution_count": 44,
   "id": "ab1b5bd7",
   "metadata": {},
   "outputs": [
    {
     "data": {
      "text/plain": [
       "[1, 2, 'hello', 3, 'hi']"
      ]
     },
     "execution_count": 44,
     "metadata": {},
     "output_type": "execute_result"
    }
   ],
   "source": [
    "tuple_lis"
   ]
  },
  {
   "cell_type": "markdown",
   "id": "5166506b",
   "metadata": {},
   "source": [
    " <hr>"
   ]
  },
  {
   "cell_type": "markdown",
   "id": "fe6a8592",
   "metadata": {},
   "source": [
    "### 16. Variables that 'contain' list values are not necessarily lists themselves. Instead, what do they contain?\n",
    "#### Ans:-\n",
    "They contain their memory location or refrence of that list values.\n",
    "<hr>"
   ]
  },
  {
   "cell_type": "markdown",
   "id": "1636260a",
   "metadata": {},
   "source": [
    "### 17. How do you distinguish between copy.copy() and copy.deepcopy()?\n",
    "#### Ans: -\n",
    "As per my understanding, In copy.copy() the changes or modication will affect the original listt becasue is not recurse   that means  a reference of object is copied in other object whereas in copy.deepcopy is recursively work, in this a copy of object is copied in other object that means it forms duplicate list so, when we modify that list the changes do not reflect in the original object.\n",
    "<hr>"
   ]
  }
 ],
 "metadata": {
  "kernelspec": {
   "display_name": "Python 3",
   "language": "python",
   "name": "python3"
  },
  "language_info": {
   "codemirror_mode": {
    "name": "ipython",
    "version": 3
   },
   "file_extension": ".py",
   "mimetype": "text/x-python",
   "name": "python",
   "nbconvert_exporter": "python",
   "pygments_lexer": "ipython3",
   "version": "3.8.5"
  }
 },
 "nbformat": 4,
 "nbformat_minor": 5
}
