{
 "cells": [
  {
   "cell_type": "markdown",
   "id": "2d495ba5",
   "metadata": {},
   "source": [
    "#  <center>INeuron Assignment 9\n",
    "<hr>"
   ]
  },
  {
   "cell_type": "markdown",
   "id": "84146c5c",
   "metadata": {},
   "source": [
    "### 1. To what does a relative path refer?\n",
    "#### Ans:-\n",
    "Relative path refer to the path or location where our file or folder is relative to the current working directory.\n",
    "for exapmle:-"
   ]
  },
  {
   "cell_type": "code",
   "execution_count": 1,
   "id": "882ad0c6",
   "metadata": {},
   "outputs": [
    {
     "name": "stdout",
     "output_type": "stream",
     "text": [
      "Relative Path : test.txt\n"
     ]
    }
   ],
   "source": [
    "import os\n",
    "path = 'C:\\\\Users\\\\HP\\\\Documents\\\\I Neuron\\\\ASSIGNMENTS\\\\test.txt'\n",
    "print(\"Relative Path :\", os.path.relpath(path))"
   ]
  },
  {
   "cell_type": "markdown",
   "id": "9880394f",
   "metadata": {},
   "source": [
    "### 2. What does an absolute path start with your operating system?\n",
    "#### Ans:-\n",
    "In os, an absolute path start with main location of a file or folder in our system. which gives the drive name folder name in which our file is located.\n",
    "for eg:-"
   ]
  },
  {
   "cell_type": "code",
   "execution_count": 2,
   "id": "4fde8200",
   "metadata": {},
   "outputs": [
    {
     "name": "stdout",
     "output_type": "stream",
     "text": [
      "Absolute Path : C:\\Users\\HP\\Documents\\I Neuron\\ASSIGNMENTS\\test.txt\n"
     ]
    }
   ],
   "source": [
    "import os\n",
    "path = 'C:\\\\Users\\\\HP\\\\Documents\\\\I Neuron\\\\ASSIGNMENTS\\\\test.txt'\n",
    "print(\"Absolute Path :\", os.path.abspath(path))"
   ]
  },
  {
   "cell_type": "markdown",
   "id": "9ca44375",
   "metadata": {},
   "source": [
    "### 3. What do the functions os.getcwd() and os.chdir() do?\n",
    "#### Ans:-\n",
    "`os.getcwd()` gives us the name of current working directory, whereas os.chdir() helps to change the current working directory to the specified path."
   ]
  },
  {
   "cell_type": "markdown",
   "id": "f2eb285d",
   "metadata": {},
   "source": [
    "### 4. What are the . and .. folders?\n",
    "#### Ans:-\n",
    "The single dot **( . )** shows the location or the folder we are currently in. The double dot **( .. )** is an indicator that we can move or change back form this location."
   ]
  },
  {
   "cell_type": "markdown",
   "id": "d989d1d0",
   "metadata": {},
   "source": [
    "### 5. In C:\\bacon\\eggs\\spam.txt, which part is the dir name, and which part is the base name?\n",
    "#### Ans:-\n",
    "In this **`C:\\bacon\\eggs`** is the dir name and **spam.txt** is the base name."
   ]
  },
  {
   "cell_type": "markdown",
   "id": "46f01d9b",
   "metadata": {},
   "source": [
    "### 6. What are the three “mode” arguments that can be passed to the open() function?\n",
    "#### Ans:-\n",
    "There are `r` for read, `w` for writing and `a` for append, this three common mode arguments can be passed to the open() function."
   ]
  },
  {
   "cell_type": "markdown",
   "id": "7be931d9",
   "metadata": {},
   "source": [
    "### 7. What happens if an existing file is opened in write mode?\n",
    "#### Ans:-\n",
    "If we open a existing file in write mode then we only acessable of writing some lines in that file meaning the content in file is erased and completely overwritten."
   ]
  },
  {
   "cell_type": "markdown",
   "id": "636a56d7",
   "metadata": {},
   "source": [
    "### 8. How do you tell the difference between read() and readlines()?\n",
    "#### Ans:-\n",
    "`read()` function tries to read entire content of the file in once while, `readlines()` read the content line by line and gives output in a list."
   ]
  },
  {
   "cell_type": "markdown",
   "id": "5626e752",
   "metadata": {},
   "source": [
    "### 9. What data structure does a shelf value resemble?\n",
    "#### Ans:-\n",
    "A shelf value resembles a dictionary value, it has keys and values, along with keys() and values() methods that work same as dictionary methods."
   ]
  }
 ],
 "metadata": {
  "kernelspec": {
   "display_name": "Python 3",
   "language": "python",
   "name": "python3"
  },
  "language_info": {
   "codemirror_mode": {
    "name": "ipython",
    "version": 3
   },
   "file_extension": ".py",
   "mimetype": "text/x-python",
   "name": "python",
   "nbconvert_exporter": "python",
   "pygments_lexer": "ipython3",
   "version": "3.8.5"
  }
 },
 "nbformat": 4,
 "nbformat_minor": 5
}
