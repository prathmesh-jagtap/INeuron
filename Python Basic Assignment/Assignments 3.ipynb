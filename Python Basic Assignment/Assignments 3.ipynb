{
 "cells": [
  {
   "cell_type": "markdown",
   "id": "cd127d68",
   "metadata": {},
   "source": [
    "# <center>INeuron Assignment 1<cneter>"
   ]
  },
  {
   "cell_type": "markdown",
   "id": "9a991ae0",
   "metadata": {},
   "source": [
    "> ### 1. Why are functions advantageous to have in your programs?\n",
    "> #### Ans :-  \n",
    "Functions are used to define a block of code that only runs when it is called. To form a function, we pass parameters as data, and it returns data as a result. To have functions in our program makes it easy to understand and completes our task. If we have to do a task that performs the same operation again and again, so we define such operation inside function and we can use that in our programs which makes our program less complex and easy to use. Functions can be used anywhere in the program, we can use function in other module also."
   ]
  },
  {
   "cell_type": "markdown",
   "id": "72eaa06c",
   "metadata": {},
   "source": [
    "> ### 2. When does the code in a function run: when it's specified or when it's called?\n",
    "> #### Ans:- \n",
    "The code inside the function runs when it is called after its definition. We define the function when we use the same operation repeatedly or when the code is to be used in the future also. \n",
    "for eg:\n",
    ">```python\n",
    "> # Funcions definition\n",
    "def add(a, b): # a and b are parameters\n",
    "    res = a + b\n",
    "    return res\n",
    "> # Calling function\n",
    "add(4, 5)\n",
    "> output :\n",
    "    9\n",
    "```"
   ]
  },
  {
   "cell_type": "markdown",
   "id": "4a14d879",
   "metadata": {},
   "source": [
    "> ### 3. What statement creates a function?\n",
    "> #### Ans:- \n",
    "In python **`def`** keyword statement creates a function which means define. The statements in the block of the function must be indented. The def keyword is followed by the function name with round brackets and a colon and the statements it executes.\n",
    ">```python\n",
    "def func_name():\n",
    "    pass\n",
    "```"
   ]
  },
  {
   "cell_type": "markdown",
   "id": "733d2ed9",
   "metadata": {},
   "source": [
    "> ### 4. What is the difference between a function and a function call?\n",
    "> #### Ans:- \n",
    "A function is a block of code that runs when it is called. Function call means when a function name defined inside the program is used,  by the programmer anywhere in the program to perform some specific task.\n",
    "> ```python\n",
    "def func_name():  # Function\n",
    "    pass\n",
    "print(\"calling function\", func_name()) # Function call\n",
    "```\n"
   ]
  },
  {
   "cell_type": "markdown",
   "id": "29e44fac",
   "metadata": {},
   "source": [
    "> ### 5. How many global scopes are there in a Python program? How many local scopes?\n",
    "> #### Ans:-\n",
    "In python functions, global scopes are used outside the function or we can define inside the function using the **`global`** keyword whereas local scopes are only used inside the function and which is works as a normal variable.\n",
    "For eg:\n",
    "> ```python\n",
    "a = \"I am global scope\" \n",
    "def myfunc():\n",
    "    global c\n",
    "    c = \"I am global scope inside function\"\n",
    "    b = \"I am local scope\"\n",
    "    return b\n",
    "print(a) # global scope\n",
    "print(c) # global scope inside function\n",
    "myfunc() # calling function \n",
    ">Output: \n",
    "    I am global scope\n",
    "    I am global scope inside function\n",
    "    'I am local scope'\n"
   ]
  },
  {
   "cell_type": "markdown",
   "id": "d75010bf",
   "metadata": {},
   "source": [
    "> ### 6. What happens to variables in a local scope when the function call returns?\n",
    "> #### Ans:-\n",
    "A local variable retains its value until the next time the function is called or function call returns. local variables are those which are defined inside a function and its scope is limited to that function only."
   ]
  },
  {
   "cell_type": "markdown",
   "id": "ae69450c",
   "metadata": {},
   "source": [
    "> ### 7. What is the concept of a return value? Is it possible to have a return value in an expression?\n",
    "> #### Ans:-\n",
    "In general, a function takes arguments, performs some operations, and returns a value or object. The value that a function returns to the caller is generally known as the function's return value. All Python functions have a return value, either explicit or implicit. \n",
    ">\n",
    ">An explicit return statement immediately terminates a function execution and sends the return value back to the caller code whereas if you don’t explicitly use a return value in a return statement, or if you totally ignores the return statement, then Python will implicitly return a default value for you. That default return value will always be None.\n",
    ">\n",
    ">Yes, it is possible to have a return value in an expression, If the return statement is without any expression, then the special value None is returned. The expression of return value can be opertion, addition, list, tuple, dictionary, another function or any string values."
   ]
  },
  {
   "cell_type": "markdown",
   "id": "5fe84515",
   "metadata": {},
   "source": [
    "> ### 8. If a function does not have a return statement, what is the return value of a call to that function?\n",
    "> #### Ans:-\n",
    "If a function does not have a return statement then then Python will implicitly return a default value for you. That default return value will always be **None**..\n",
    "> ```python\n",
    "def no_return():\n",
    "    res = 5 + 4\n",
    "print(no_return())\n",
    " ```"
   ]
  },
  {
   "cell_type": "markdown",
   "id": "9d1e7afd",
   "metadata": {},
   "source": [
    "> ### 9. How do you make a function variable refer to the global variable?\n",
    "> #### Ans:-\n",
    "If you want to refer to a global variable in a function, you can use the **`global`** keyword to declare which variables are global in function definition."
   ]
  },
  {
   "cell_type": "markdown",
   "id": "84949a41",
   "metadata": {},
   "source": [
    "> ### 10. What is the data type of None?\n",
    "> #### \n",
    "Ans:- The data type of None is **`NoneType`**.\n",
    "> ```python\n",
    "type(None)\n",
    "Output:\n",
    "NoneType\n",
    "```\n"
   ]
  },
  {
   "cell_type": "markdown",
   "id": "e67ae305",
   "metadata": {},
   "source": [
    "> ### 11. What does the sentence import areallyourpetsnamederic do?\n",
    "> #### Ans:-\n",
    "In python, import keyword is used to access all functions and classes which is in that module areallyourpetsnamederic. By importing that file or module we can use the function as per our requirements in our program."
   ]
  },
  {
   "cell_type": "markdown",
   "id": "7bb0913b",
   "metadata": {},
   "source": [
    "> ### 12. If you had a bacon() feature in a spam module, what would you call it after importing spam?\n",
    "> #### Ans:-\n",
    "This function or method can be called with `spam.bacon()`."
   ]
  },
  {
   "cell_type": "markdown",
   "id": "9b8af163",
   "metadata": {},
   "source": [
    ">### 13. What can you do to save a programme from crashing if it encounters an error?\n",
    "> #### Ans:-\n",
    "To save a program from crashing we put that code inside try and except block. `try` block tries to run the program if there is no error but if there is an error then it throughs that error in `except` block which saves our program from crashing. But, it works when there is no syntax error in our program."
   ]
  },
  {
   "cell_type": "markdown",
   "id": "8733606e",
   "metadata": {},
   "source": [
    "> ### 14. What is the purpose of the try clause? What is the purpose of the except clause?\n",
    "> #### Ans:- \n",
    "Try clause holds our entire program to test a code for errors whereas except clause handles errors if there is eny.\n",
    "for eg:\n",
    ">```python\n",
    "try:\n",
    "    print(\"hello python\")\n",
    "    (5/0)\n",
    "except Exception as e:\n",
    "    print(\"This is error in you program :\", e)\n",
    "Output:\n",
    "        hello python\n",
    "        This is error in you program :  division by zero\n",
    "```"
   ]
  },
  {
   "cell_type": "code",
   "execution_count": null,
   "id": "bfdadf6b",
   "metadata": {},
   "outputs": [],
   "source": []
  }
 ],
 "metadata": {
  "kernelspec": {
   "display_name": "Python 3",
   "language": "python",
   "name": "python3"
  },
  "language_info": {
   "codemirror_mode": {
    "name": "ipython",
    "version": 3
   },
   "file_extension": ".py",
   "mimetype": "text/x-python",
   "name": "python",
   "nbconvert_exporter": "python",
   "pygments_lexer": "ipython3",
   "version": "3.8.5"
  }
 },
 "nbformat": 4,
 "nbformat_minor": 5
}
