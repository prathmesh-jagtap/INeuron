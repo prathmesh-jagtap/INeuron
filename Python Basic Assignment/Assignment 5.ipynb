{
 "cells": [
  {
   "cell_type": "markdown",
   "id": "6d1ef4f8",
   "metadata": {},
   "source": [
    "### 1. What does an empty dictionary's code look like?\n",
    "#### Ans:- \n",
    "To create an empty dictionary, the dictionary should be look like { }.\n",
    "`dict = {}` \n",
    "<hr>"
   ]
  },
  {
   "cell_type": "markdown",
   "id": "ad505e70",
   "metadata": {},
   "source": [
    "### 2. What is the value of a dictionary value with the key 'foo' and the value 42?\n",
    "#### Ans:- \n",
    "The value of a dictionary {'foo' : 42} is 42.\n",
    "<hr>"
   ]
  },
  {
   "cell_type": "markdown",
   "id": "905c24a6",
   "metadata": {},
   "source": [
    "### 3. What is the most significant distinction between a dictionary and a list?\n",
    "#### Ans:- \n",
    "The most significant difference between a dictionary and a list is that the items stored in dictionary are unordered collection while the item in a list are ordered collection.\n",
    "<hr>"
   ]
  },
  {
   "cell_type": "markdown",
   "id": "58501008",
   "metadata": {},
   "source": [
    "### 4. What happens if you try to access spam['foo'] if spam is {'bar' : 100}?\n",
    "#### Ans:- \n",
    "If we try to access this we get keyError error.\n",
    "<hr>"
   ]
  },
  {
   "cell_type": "markdown",
   "id": "90c7f9a0",
   "metadata": {},
   "source": [
    "### 5. If a dictionary is stored in spam, what is the difference between the expressions 'cat' in spam and 'cat' in spam.keys()?\n",
    "#### Ans:-  \n",
    "There is no difference, 'cat' in spam and 'cat' in spam.keys() they both gives boolean value true if cat is in the dictionary. The `in` operator checks whether a value exists as a key in the dictionary.\n",
    "<hr>\n",
    "for eg:"
   ]
  },
  {
   "cell_type": "code",
   "execution_count": 14,
   "id": "8c6c6fd2",
   "metadata": {},
   "outputs": [
    {
     "name": "stdout",
     "output_type": "stream",
     "text": [
      "True\n",
      "True\n"
     ]
    }
   ],
   "source": [
    "spam = {\"cat\" : 21}\n",
    "print(\"cat\" in spam)\n",
    "print('cat' in spam.keys())"
   ]
  },
  {
   "cell_type": "markdown",
   "id": "eb7df124",
   "metadata": {},
   "source": [
    "### 6. If a dictionary is stored in spam, what is the difference between the expressions 'cat' in spam and 'cat' in spam.values()?\n",
    "#### Ans:- \n",
    "In expression, `'cat' in spam` the `in` operator checks a value exists as a key in the dictionary, if value exist it gives True and if not if gives False as output whereas, in `'cat' in spam.values()` the `in` operator check a value exists as a value in the dictionary, if not it gives False as ouput.\n",
    "\n",
    "for eg:"
   ]
  },
  {
   "cell_type": "code",
   "execution_count": 15,
   "id": "8cb4470d",
   "metadata": {},
   "outputs": [
    {
     "name": "stdout",
     "output_type": "stream",
     "text": [
      "True\n",
      "False\n"
     ]
    }
   ],
   "source": [
    "spam = {\"cat\" : 21}\n",
    "print(\"cat\" in spam)\n",
    "print('cat' in spam.values())"
   ]
  },
  {
   "cell_type": "markdown",
   "id": "28ca9375",
   "metadata": {},
   "source": [
    "### 7. What is a shortcut for the following code?\n",
    "    if 'color' not in spam:\n",
    "        spam['color'] = 'black'\n",
    "#### Ans:- \n",
    "spam.setdefault('color', 'black')\n",
    "\n",
    "This insert key with a value of default if key is not in the dictionary."
   ]
  },
  {
   "cell_type": "markdown",
   "id": "066d2706",
   "metadata": {},
   "source": [
    "### 8. How do you \"pretty print\" dictionary values using which module and function?\n",
    "#### Ans:- \n",
    "We use pprint module and in pprint.pprint() function "
   ]
  },
  {
   "cell_type": "code",
   "execution_count": 24,
   "id": "2da900cd",
   "metadata": {},
   "outputs": [
    {
     "name": "stdout",
     "output_type": "stream",
     "text": [
      "{'cat': 21, 'colo': 'yello', 'color': 'black'}\n"
     ]
    }
   ],
   "source": [
    "import pprint \n",
    "pprint.pprint(spam)"
   ]
  },
  {
   "cell_type": "code",
   "execution_count": null,
   "id": "6b4c27f3",
   "metadata": {},
   "outputs": [],
   "source": []
  }
 ],
 "metadata": {
  "kernelspec": {
   "display_name": "Python 3",
   "language": "python",
   "name": "python3"
  },
  "language_info": {
   "codemirror_mode": {
    "name": "ipython",
    "version": 3
   },
   "file_extension": ".py",
   "mimetype": "text/x-python",
   "name": "python",
   "nbconvert_exporter": "python",
   "pygments_lexer": "ipython3",
   "version": "3.8.5"
  }
 },
 "nbformat": 4,
 "nbformat_minor": 5
}
