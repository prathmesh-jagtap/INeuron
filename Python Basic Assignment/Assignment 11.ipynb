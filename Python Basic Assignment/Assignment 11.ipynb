{
 "cells": [
  {
   "cell_type": "markdown",
   "id": "db94d436",
   "metadata": {},
   "source": [
    "#  <center>INeuron Assignment 11\n",
    "<hr>"
   ]
  },
  {
   "cell_type": "markdown",
   "id": "c33880df",
   "metadata": {},
   "source": [
    "### 1. Create an assert statement that throws an AssertionError if the variable spam is a negative integer.\n",
    "#### Ans:-"
   ]
  },
  {
   "cell_type": "code",
   "execution_count": 30,
   "id": "f335119e",
   "metadata": {},
   "outputs": [
    {
     "ename": "AssertionError",
     "evalue": "Numevr is Negative integer.",
     "output_type": "error",
     "traceback": [
      "\u001b[1;31m---------------------------------------------------------------------------\u001b[0m",
      "\u001b[1;31mAssertionError\u001b[0m                            Traceback (most recent call last)",
      "\u001b[1;32m<ipython-input-30-81b581e055fc>\u001b[0m in \u001b[0;36m<module>\u001b[1;34m\u001b[0m\n\u001b[0;32m      3\u001b[0m \u001b[1;31m# using assert to check for temperature greater than cut\u001b[0m\u001b[1;33m\u001b[0m\u001b[1;33m\u001b[0m\u001b[1;33m\u001b[0m\u001b[0m\n\u001b[0;32m      4\u001b[0m \u001b[1;32mfor\u001b[0m \u001b[0mspam\u001b[0m \u001b[1;32min\u001b[0m \u001b[0mnumber\u001b[0m\u001b[1;33m:\u001b[0m\u001b[1;33m\u001b[0m\u001b[1;33m\u001b[0m\u001b[0m\n\u001b[1;32m----> 5\u001b[1;33m     \u001b[1;32massert\u001b[0m \u001b[0mspam\u001b[0m \u001b[1;33m<\u001b[0m \u001b[1;36m0\u001b[0m\u001b[1;33m,\u001b[0m \u001b[1;34m\"Numevr is Negative integer.\"\u001b[0m\u001b[1;33m\u001b[0m\u001b[1;33m\u001b[0m\u001b[0m\n\u001b[0m",
      "\u001b[1;31mAssertionError\u001b[0m: Numevr is Negative integer."
     ]
    }
   ],
   "source": [
    "number = [ 4, 2, 0, -3, 25, 1] \n",
    "\n",
    "# using assert to check for temperature greater than cut\n",
    "for spam in number:\n",
    "    assert spam < 0, \"Numevr is Negative integer.\""
   ]
  },
  {
   "cell_type": "markdown",
   "id": "3ccc4c01",
   "metadata": {},
   "source": [
    "### 2. Write an assert statement that triggers an AssertionError if the variables eggs and bacon contain strings that are the same as each other, even if their cases are different (that is, 'hello' and 'hello' are considered the same, and 'goodbye' and 'GOODbye' are also considered the same).\n",
    "#### Ans:-  \n",
    "```python\n",
    "assert eggs.lower() != bacon.lower(), 'The eggs and bacon variables are the same!' or assert eggs.upper() != bacon.upper(), 'The eggs and bacon variables are the same!'\n",
    "```"
   ]
  },
  {
   "cell_type": "markdown",
   "id": "0d997ccc",
   "metadata": {},
   "source": [
    "### 3. Create an assert statement that throws an AssertionError every time.\n",
    "#### Ans:-\n",
    "```python\n",
    "assert False, \"This is an Assertion Error\"\n",
    "```"
   ]
  },
  {
   "cell_type": "markdown",
   "id": "116d1476",
   "metadata": {},
   "source": [
    "### 4. What are the two lines that must be present in your software in order to call logging.debug()?\n",
    "#### Ans:-\n",
    "The line are:\n",
    "```python\n",
    "import logging\n",
    "logging.basicConfig(filename = xyz.log, level=logging.DEBUG, format=' %(asctime)s - %(levelname)s - %(message)s')\n",
    "```"
   ]
  },
  {
   "cell_type": "markdown",
   "id": "06c230b9",
   "metadata": {},
   "source": [
    "### 5. What are the two lines that your program must have in order to have logging.debug() send a logging message to a file named programLog.txt?\n",
    "#### Ans:-\n",
    "```python\n",
    "import logging\n",
    "logging.basicConfig(filename = programLog.txt, level=logging.DEBUG, format=' %(asctime)s - %(levelname)s - %(message)s')\n",
    "```"
   ]
  },
  {
   "cell_type": "markdown",
   "id": "312f31cf",
   "metadata": {},
   "source": [
    "### 6. What are the five levels of logging?\n",
    "#### Ans:- \n",
    "The five levels of logging are:-\n",
    "* DEBUG\n",
    "* INFO\n",
    "* WARNING\n",
    "* ERROR\n",
    "* CRITICAL\n",
    "    "
   ]
  },
  {
   "cell_type": "markdown",
   "id": "ddd3949a",
   "metadata": {},
   "source": [
    "### 7. What line of code would you add to your software to disable all logging messages?\n",
    "#### Ans:- \n",
    "    import logging\n",
    "    logging.disable(level = logging.CRITICAL)"
   ]
  },
  {
   "cell_type": "markdown",
   "id": "3c12bb81",
   "metadata": {},
   "source": [
    "### 8. Why is using logging messages better than using print() to display the same message?\n",
    "#### Ans:-\n",
    "Because logging messsages shows the problem and info of our program. It gives all situation and condition of our program in the runtime with a timestamp."
   ]
  },
  {
   "cell_type": "markdown",
   "id": "c80a8d34",
   "metadata": {},
   "source": [
    "### 9. What are the differences between the Step Over, Step In, and Step Out buttons in the debugger?\n",
    "#### Ans:- \n",
    "The Step button will move the debugger into a function call. The Step Over button will quickly execute the function call without stepping into it. The Step Out button will quickly execute the rest of the code until it steps out of the function it currently is in."
   ]
  },
  {
   "cell_type": "markdown",
   "id": "c0bdc366",
   "metadata": {},
   "source": [
    "### 10. After you click Continue, when will the debugger stop ?\n",
    "#### Ans:-\n",
    "click Continue, the debugger will stop when it has reached the end of the program or a line with a breakpoint."
   ]
  },
  {
   "cell_type": "markdown",
   "id": "4ca800ea",
   "metadata": {},
   "source": [
    "### 11. What is the concept of a breakpoint?\n",
    "#### Ans:-\n",
    "breakpoint is a setting on a line of code that causes the debugger to pause when the program execution reaches the line."
   ]
  }
 ],
 "metadata": {
  "kernelspec": {
   "display_name": "Python 3",
   "language": "python",
   "name": "python3"
  },
  "language_info": {
   "codemirror_mode": {
    "name": "ipython",
    "version": 3
   },
   "file_extension": ".py",
   "mimetype": "text/x-python",
   "name": "python",
   "nbconvert_exporter": "python",
   "pygments_lexer": "ipython3",
   "version": "3.8.5"
  }
 },
 "nbformat": 4,
 "nbformat_minor": 5
}
