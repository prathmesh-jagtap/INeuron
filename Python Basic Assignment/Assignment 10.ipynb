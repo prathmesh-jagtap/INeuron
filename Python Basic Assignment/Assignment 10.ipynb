{
 "cells": [
  {
   "cell_type": "markdown",
   "id": "a8e93cd5",
   "metadata": {},
   "source": [
    "#  <center>INeuron Assignment 10\n",
    "<hr>"
   ]
  },
  {
   "cell_type": "markdown",
   "id": "833800e7",
   "metadata": {},
   "source": [
    "### 1. How do you distinguish between shutil.copy() and shutil.copytree()?\n",
    "#### Ans:-\n",
    "shutil.copy() and shutil.copytree() take two arguments source path and destination path. In shutil.copy(), copied the file in destination while shutil.copytree(),copy entire files and folders from source path to destination path."
   ]
  },
  {
   "cell_type": "markdown",
   "id": "c7ac5883",
   "metadata": {},
   "source": [
    "### 2. What function is used to rename files?\n",
    "#### Ans:-\n",
    "The shutil. move() function is used for renaming files."
   ]
  },
  {
   "cell_type": "markdown",
   "id": "2db3299c",
   "metadata": {},
   "source": [
    "### 3. What is the difference between the delete functions in the send2trash and shutil modules?\n",
    "#### Ans:-\n",
    "The send2trash functions will move a file or folder to the recycle bin, while shutil functions will permanently delete files and folders."
   ]
  },
  {
   "cell_type": "markdown",
   "id": "277e8a64",
   "metadata": {},
   "source": [
    "### 4. ZipFile objects have a close() method just like File objects’ close() method. What ZipFile method is equivalent to File objects’ open() method?\n",
    "#### Ans:-\n",
    "The extractall() method for ZipFile objects extracts all the files and folders from a ZIP file into the current working directory."
   ]
  },
  {
   "cell_type": "markdown",
   "id": "80f61b59",
   "metadata": {},
   "source": [
    "### 5. Create a programme that searches a folder tree for files with a certain file extension (such as .pdf or .jpg). Copy these files from whatever location they are in to a new folder.\n",
    "#### Ans:-"
   ]
  },
  {
   "cell_type": "code",
   "execution_count": 78,
   "id": "fae57192",
   "metadata": {},
   "outputs": [
    {
     "name": "stdout",
     "output_type": "stream",
     "text": [
      "Enter source path : C://Users//HP//Documents//I Neuron\n",
      "Enter dest path : C://Users//HP//Documents//ALL FILES\n",
      "Enter file type (extension): .py .jpg\n",
      "coping C://Users//HP//Documents//I Neuron\\sas.jpg to C://Users//HP//Documents//ALL FILES\n",
      "coping C://Users//HP//Documents//I Neuron\\API_projects\\apitest.py to C://Users//HP//Documents//ALL FILES\n",
      "coping C://Users//HP//Documents//I Neuron\\API_projects\\flask\\flask_demo\\app.py to C://Users//HP//Documents//ALL FILES\n",
      "coping C://Users//HP//Documents//I Neuron\\My_Package\\files.py to C://Users//HP//Documents//ALL FILES\n",
      "coping C://Users//HP//Documents//I Neuron\\My_Package\\my_functions.py to C://Users//HP//Documents//ALL FILES\n",
      "coping C://Users//HP//Documents//I Neuron\\My_Package\\test.py to C://Users//HP//Documents//ALL FILES\n",
      "coping C://Users//HP//Documents//I Neuron\\Practice N HW\\shape.py to C://Users//HP//Documents//ALL FILES\n",
      "coping C://Users//HP//Documents//I Neuron\\Practice N HW\\ushape.py to C://Users//HP//Documents//ALL FILES\n"
     ]
    },
    {
     "data": {
      "text/plain": [
       "'copied'"
      ]
     },
     "execution_count": 78,
     "metadata": {},
     "output_type": "execute_result"
    }
   ],
   "source": [
    "import shutil as st\n",
    "import os\n",
    "\n",
    "def file_filter(src, dst, exts):\n",
    "    \n",
    "    for directory, folders, files in os.walk(src):\n",
    "        for file in files:\n",
    "            name, ext = os.path.splitext(file)\n",
    "            if ext in exts:\n",
    "                filePath = directory + os.path.sep + file\n",
    "                print(\"coping\", filePath, 'to', dst)\n",
    "                st.copy(filePath, dst)\n",
    "    \n",
    "    return \"copied\"\n",
    "\n",
    "source = input(\"Enter source path : \")\n",
    "dstination = input(\"Enter dest path : \")\n",
    "exts = list(input(\"Enter file type (extension): \").split())\n",
    "file_filter(source, dstination, exts)"
   ]
  },
  {
   "cell_type": "code",
   "execution_count": null,
   "id": "927e56f0",
   "metadata": {},
   "outputs": [],
   "source": []
  }
 ],
 "metadata": {
  "kernelspec": {
   "display_name": "Python 3",
   "language": "python",
   "name": "python3"
  },
  "language_info": {
   "codemirror_mode": {
    "name": "ipython",
    "version": 3
   },
   "file_extension": ".py",
   "mimetype": "text/x-python",
   "name": "python",
   "nbconvert_exporter": "python",
   "pygments_lexer": "ipython3",
   "version": "3.8.5"
  }
 },
 "nbformat": 4,
 "nbformat_minor": 5
}
