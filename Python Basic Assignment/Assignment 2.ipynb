{
 "cells": [
  {
   "cell_type": "markdown",
   "id": "0f17e2bb",
   "metadata": {},
   "source": [
    "# <center>INeuron Assignment 2<cneter>"
   ]
  },
  {
   "cell_type": "markdown",
   "id": "131f2888",
   "metadata": {},
   "source": [
    "### 1.What are the two values of the Boolean data type? How do you write them?\n",
    "#### Ans:- \n",
    "The two values of boolean data type are 'True' and 'False'. We use class 'bool' indicates the variable is a  boolean data type. It is used to represent the truth values of the expressions. For example, 1==1 is True whereas 2<1 is False. "
   ]
  },
  {
   "cell_type": "code",
   "execution_count": 3,
   "id": "1b4f83e7",
   "metadata": {},
   "outputs": [
    {
     "data": {
      "text/plain": [
       "True"
      ]
     },
     "execution_count": 3,
     "metadata": {},
     "output_type": "execute_result"
    }
   ],
   "source": [
    "1 == 1"
   ]
  },
  {
   "cell_type": "code",
   "execution_count": 4,
   "id": "71af766a",
   "metadata": {},
   "outputs": [
    {
     "data": {
      "text/plain": [
       "False"
      ]
     },
     "execution_count": 4,
     "metadata": {},
     "output_type": "execute_result"
    }
   ],
   "source": [
    "2<1"
   ]
  },
  {
   "cell_type": "markdown",
   "id": "69491d07",
   "metadata": {},
   "source": [
    "### 2. What are the three different types of Boolean operators?\n",
    "#### Ans:- \n",
    "Three boolean operators are: AND, OR, NOT"
   ]
  },
  {
   "cell_type": "code",
   "execution_count": 5,
   "id": "29846d74",
   "metadata": {},
   "outputs": [
    {
     "data": {
      "text/plain": [
       "False"
      ]
     },
     "execution_count": 5,
     "metadata": {},
     "output_type": "execute_result"
    }
   ],
   "source": [
    "True and False"
   ]
  },
  {
   "cell_type": "code",
   "execution_count": 6,
   "id": "3437788f",
   "metadata": {},
   "outputs": [
    {
     "data": {
      "text/plain": [
       "True"
      ]
     },
     "execution_count": 6,
     "metadata": {},
     "output_type": "execute_result"
    }
   ],
   "source": [
    "True or False"
   ]
  },
  {
   "cell_type": "code",
   "execution_count": 7,
   "id": "bdee25ee",
   "metadata": {},
   "outputs": [
    {
     "data": {
      "text/plain": [
       "True"
      ]
     },
     "execution_count": 7,
     "metadata": {},
     "output_type": "execute_result"
    }
   ],
   "source": [
    "not False"
   ]
  },
  {
   "cell_type": "markdown",
   "id": "cf76934d",
   "metadata": {},
   "source": [
    "### 3. Make a list of each Boolean operator&#39;s truth tables (i.e. every possible combination of Boolean values for the operator and what it evaluate ).\n",
    "#### Ans:-"
   ]
  },
  {
   "cell_type": "code",
   "execution_count": 14,
   "id": "2d1046ac",
   "metadata": {},
   "outputs": [
    {
     "name": "stdout",
     "output_type": "stream",
     "text": [
      "True and True = True\n",
      "True and False = False\n",
      "False and True = False\n",
      "False and False = False\n"
     ]
    }
   ],
   "source": [
    "# Truth Table for AND Operator :-\n",
    "print(\"True and True =\", True and True)\n",
    "print(\"True and False =\", True and False)\n",
    "print(\"False and True =\", False and True)\n",
    "print(\"False and False =\", False and False)"
   ]
  },
  {
   "cell_type": "code",
   "execution_count": 15,
   "id": "0fbe0522",
   "metadata": {},
   "outputs": [
    {
     "name": "stdout",
     "output_type": "stream",
     "text": [
      "True OR True = True\n",
      "True OR False = True\n",
      "False OR True = True\n",
      "False OR False = False\n"
     ]
    }
   ],
   "source": [
    "# Truth Table for OR Operator :-\n",
    "print(\"True OR True =\", True or True)\n",
    "print(\"True OR False =\", True or False)\n",
    "print(\"False OR True =\", False or True)\n",
    "print(\"False OR False =\", False or False)"
   ]
  },
  {
   "cell_type": "code",
   "execution_count": 16,
   "id": "33225ce5",
   "metadata": {},
   "outputs": [
    {
     "name": "stdout",
     "output_type": "stream",
     "text": [
      " NOT True = False\n",
      " NOT False = True\n",
      " NOT True = False\n",
      " NOT False = True\n"
     ]
    }
   ],
   "source": [
    "# Truth Table for NOT Operator :-\n",
    "print(\" NOT True =\",  not True)\n",
    "print(\" NOT False =\",  not False)\n",
    "print(\" NOT True =\",  not True)\n",
    "print(\" NOT False =\",  not False)"
   ]
  },
  {
   "cell_type": "markdown",
   "id": "aea20676",
   "metadata": {},
   "source": [
    "### 4. What are the values of the following expressions?\n",
    "#### Ans:- \n",
    "(5 > 4) and (3 == 5) = False\n",
    "\n",
    "not (5 > 4) = False\n",
    "\n",
    "(5 > 4) or (3 == 5) = True\n",
    "\n",
    "not ((5 > 4) or (3 == 5)) = False\n",
    "\n",
    "(True and True) and (True == False) = False\n",
    "\n",
    "(not False) or (not True) = True"
   ]
  },
  {
   "cell_type": "markdown",
   "id": "58ab97a5",
   "metadata": {},
   "source": [
    "### 5. What are the six comparison operators?\n",
    "#### Ans:- The six comparison operators are:\n",
    "|Operator |\tName |  For Example | Output |\n",
    "|:--------:|:-----:|:--------------:|:--------:|\n",
    "| == |\tEqual |\t5 == 4\t| False |\n",
    "| != |\tNot equal |\t5 != 4\t| True |\n",
    "| >\t| Greater than | 5 > 4\t| True |\n",
    "| <\t | Less than  |\t5 < 4 |\tFalse |\n",
    "| >= | Greater than or equal to | 5 >= 4 | True |\n",
    "| <= | Less than or equal to | 5 <= 4\t| False |\n"
   ]
  },
  {
   "cell_type": "markdown",
   "id": "27c44280",
   "metadata": {},
   "source": [
    "### 6. How do you tell the difference between the equal to and assignment operators? Describe a condition and when you would use one.\n",
    "#### Ans:- \n",
    "Assignent Operators is used to assigning a values to a variable but equal to is used to compare or make relation between two values, it returns 1 if both the values are equal otherwise return 0. \n",
    "Keywords and Constant terms or variable can't be used on left hand side.Example 1=x, int = 50 is invalid, unlike Constant term can be used for example 1 == 1 is valid and returns 1."
   ]
  },
  {
   "cell_type": "markdown",
   "id": "317e4bc8",
   "metadata": {},
   "source": [
    "### 7. Identify the three blocks in this code:\n",
    "    spam = 0\n",
    "    if spam == 10:\n",
    "    print('eggs')    \n",
    "    if spam > 5:\n",
    "    print('bacon')\n",
    "    else:\n",
    "    print('ham')\n",
    "    print('spam')\n",
    "    print('spam')\n",
    "#### Ans:-"
   ]
  },
  {
   "cell_type": "code",
   "execution_count": 1,
   "id": "e660f690",
   "metadata": {},
   "outputs": [
    {
     "name": "stdout",
     "output_type": "stream",
     "text": [
      "ham\n",
      "spam\n",
      "spam\n"
     ]
    }
   ],
   "source": [
    "spam = 0\n",
    "\n",
    "# first block of code\n",
    "if spam == 10:\n",
    "    print('eggs')\n",
    "\n",
    "# second block of code\n",
    "if spam > 5:\n",
    "    print('bacon')\n",
    "\n",
    "# third block of code    \n",
    "else:\n",
    "    print('ham')\n",
    "    print('spam')\n",
    "    print('spam')"
   ]
  },
  {
   "cell_type": "markdown",
   "id": "ffcfa1bd",
   "metadata": {},
   "source": [
    "### 8. Write code that prints Hello if 1 is stored in spam, prints Howdy if 2 is stored in spam, and prints Greetings! if anything else is stored in spam.\n",
    "#### Ans:-"
   ]
  },
  {
   "cell_type": "code",
   "execution_count": 8,
   "id": "065efb83",
   "metadata": {},
   "outputs": [
    {
     "name": "stdout",
     "output_type": "stream",
     "text": [
      " Enter a number = 2\n",
      "Howdy\n"
     ]
    }
   ],
   "source": [
    "#Input from a user\n",
    "spam = int(input(\" Enter a number = \"))\n",
    "\n",
    "if spam == 1:\n",
    "    print('Hello')\n",
    "    \n",
    "elif spam == 2:\n",
    "    print(\"Howdy\")\n",
    "\n",
    "else:\n",
    "    print(\"Greetings!\")"
   ]
  },
  {
   "cell_type": "markdown",
   "id": "04960abe",
   "metadata": {},
   "source": [
    "### 9. If your programme is stuck in an endless loop, what keys you’ll press?\n",
    "#### Ans:-\n",
    "To exit out of endless loops on the command line, press **CTRL + C**. But, in jupyter notebook to xit out endless loop we have to click restart option which is present in kernel menu."
   ]
  },
  {
   "cell_type": "markdown",
   "id": "7cdcd2f2",
   "metadata": {},
   "source": [
    "### 10. How can you tell the difference between break and continue?\n",
    "#### Ans:- \n",
    "In python, the **break** statement is used to terminate the code in which it is present, after that if any condition present after the break it is pass to that block, but the **continue** statement is opposite to that of break statement which tries to execute the code in the same condition on which it last comes or execute the next iteration. When the continue statement is executed in the loop, the code inside the loop following the continue statement will be skipped and the next iteration of the loop will begin. and it runs till the condition becomes false.\n"
   ]
  },
  {
   "cell_type": "code",
   "execution_count": 32,
   "id": "569498b8",
   "metadata": {},
   "outputs": [
    {
     "name": "stdout",
     "output_type": "stream",
     "text": [
      "smaller than 5\n"
     ]
    }
   ],
   "source": [
    "# Example of Break statment\n",
    "\n",
    "for i in range(10):\n",
    "    if i < 5:\n",
    "        print('smaller than 5')\n",
    "        break\n",
    "    elif i < 3:\n",
    "        print('smaller than 5 is', i)"
   ]
  },
  {
   "cell_type": "code",
   "execution_count": 48,
   "id": "37b8eb04",
   "metadata": {},
   "outputs": [
    {
     "name": "stdout",
     "output_type": "stream",
     "text": [
      "0 1 2 4 5 "
     ]
    }
   ],
   "source": [
    "# Example of Continue statment\n",
    "\n",
    "for i in range(6):\n",
    "    if i == 3:\n",
    "        continue\n",
    "    else:\n",
    "        print(i, end=' ')"
   ]
  },
  {
   "cell_type": "markdown",
   "id": "5e84e6ad",
   "metadata": {},
   "source": [
    "### 11. In a for loop, what is the difference between range(10), range(0, 10), and range(0, 10, 1)?\n",
    "#### Ans:- \n",
    "In a for loop, the range function has three-parameter which are **Start**, **Stop**, and **Step**. In this example, range(10) in which only stop argument is defined where start as 0 and step as 1 already define as default arguments, the user will get a series of numbers that starts at 0 and includes every whole number up to, but excluding the number that user has provided as the stop, while in example range(0, 10) and range(0, 10, 1) there is a start, stop and step argument is define. We can call start as well stop arguments as per as our uses."
   ]
  },
  {
   "cell_type": "code",
   "execution_count": 52,
   "id": "d7de1097",
   "metadata": {},
   "outputs": [
    {
     "name": "stdout",
     "output_type": "stream",
     "text": [
      "0 1 2 3 4 5 6 7 8 9 "
     ]
    }
   ],
   "source": [
    "# for example range(10) which call only one arguement\n",
    "for i in range(10):\n",
    "    print(i, end=' ')\n",
    "\n",
    "# Here it excludes the stop number"
   ]
  },
  {
   "cell_type": "code",
   "execution_count": 54,
   "id": "1edd2ea3",
   "metadata": {},
   "outputs": [
    {
     "name": "stdout",
     "output_type": "stream",
     "text": [
      "0 1 2 3 4 5 6 7 8 9 \n",
      "1 2 3 4 5 6 7 8 9 "
     ]
    }
   ],
   "source": [
    "# for example range(0, 10) which call two arguement start and stop \n",
    "for i in range(0, 10):\n",
    "    print(i, end=' ')\n",
    "\n",
    "print()\n",
    "\n",
    "# When we define start\n",
    "for i in range(1, 10):\n",
    "    print(i, end=' ')\n",
    "# it start with 1 "
   ]
  },
  {
   "cell_type": "code",
   "execution_count": 56,
   "id": "efa239d2",
   "metadata": {},
   "outputs": [
    {
     "name": "stdout",
     "output_type": "stream",
     "text": [
      "0 1 2 3 4 5 6 7 8 9 \n",
      "0 2 4 6 8 "
     ]
    }
   ],
   "source": [
    "# for example range(0, 10, 1) which call two arguement start and stop \n",
    "for i in range(0, 10, 1):\n",
    "    print(i, end=' ')\n",
    "print()\n",
    "\n",
    "# when we change step arguement\n",
    "for i in range(0, 10, 2):\n",
    "    print(i, end=' ')"
   ]
  },
  {
   "cell_type": "markdown",
   "id": "73f6dae5",
   "metadata": {},
   "source": [
    "### 12. Write a short program that prints the numbers 1 to 10 using a for loop. Then write an equivalent program that prints the numbers 1 to 10 using a while loop.\n",
    "#### Ans:-"
   ]
  },
  {
   "cell_type": "code",
   "execution_count": 69,
   "id": "8de9c2ec",
   "metadata": {},
   "outputs": [
    {
     "name": "stdout",
     "output_type": "stream",
     "text": [
      "using for loop :\n",
      "1 2 3 4 5 6 7 8 9 10 \n",
      "\n",
      "using while loop :\n",
      "1 2 3 4 5 6 7 8 9 10 "
     ]
    }
   ],
   "source": [
    "# Program prints the numbers 1 to 10 using a for loop\n",
    "print(\"using for loop :\")\n",
    "for i in range(1, 11):\n",
    "    print(i, end=\" \")\n",
    "\n",
    "print(\"\\n\")\n",
    "\n",
    "# Program prints the numbers 1 to 10 using a for loop\n",
    "print(\"using while loop :\")\n",
    "i = 1\n",
    "while i < 11:\n",
    "    print(i, end=' ')\n",
    "    i += 1"
   ]
  },
  {
   "cell_type": "markdown",
   "id": "01d067b2",
   "metadata": {},
   "source": [
    "### 13. If you had a function named bacon() inside a module named spam, how would you call it after importing spam?\n",
    "#### Ans:- \n",
    "We use this **form spam import bacon** line in starting of our python program than we can use function bacon()."
   ]
  },
  {
   "cell_type": "code",
   "execution_count": null,
   "id": "8c04bed9",
   "metadata": {
    "scrolled": false
   },
   "outputs": [],
   "source": []
  }
 ],
 "metadata": {
  "kernelspec": {
   "display_name": "Python 3",
   "language": "python",
   "name": "python3"
  },
  "language_info": {
   "codemirror_mode": {
    "name": "ipython",
    "version": 3
   },
   "file_extension": ".py",
   "mimetype": "text/x-python",
   "name": "python",
   "nbconvert_exporter": "python",
   "pygments_lexer": "ipython3",
   "version": "3.8.5"
  }
 },
 "nbformat": 4,
 "nbformat_minor": 5
}
