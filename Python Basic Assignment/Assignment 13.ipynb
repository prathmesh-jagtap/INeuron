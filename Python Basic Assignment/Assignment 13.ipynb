{
 "cells": [
  {
   "cell_type": "markdown",
   "id": "7d190045",
   "metadata": {},
   "source": [
    "# <center> INeuron Assignment 13\n",
    " <hr>"
   ]
  },
  {
   "cell_type": "markdown",
   "id": "749ee736",
   "metadata": {},
   "source": [
    "### 1. What advantages do Excel spreadsheets have over CSV spreadsheets?\n",
    "#### Ans:- \n",
    "Excel spreadsheets have batter formatting or its in more understandable manner than CSV spreadsheets. In Excel user can manipulae data and it allow user to add any feature to it, whereas CSV does not allows user to manuipulate data and store it as-is."
   ]
  },
  {
   "cell_type": "markdown",
   "id": "92355292",
   "metadata": {},
   "source": [
    "### 2. What do you pass to csv.reader() and csv.writer() to create reader and writer objects?\n",
    "#### Ans:- \n",
    "We pass `'r'` to csv.reader and `'w'` to csv.writer in open() function to create reader and writer objects.\n"
   ]
  },
  {
   "cell_type": "markdown",
   "id": "c9b65049",
   "metadata": {},
   "source": [
    "### 3. What modes do File objects for reader and writer objects need to be opened in?\n",
    "#### Ans:-\n",
    "For reader we need \"r\" and for writer \"w\" as a modes in open()."
   ]
  },
  {
   "cell_type": "markdown",
   "id": "3c1591a9",
   "metadata": {},
   "source": [
    "### 4. What method takes a list argument and writes it to a CSV file?\n",
    "#### Ans:-\n",
    "CSV.writer writerows() method take a iterable as an argument with writer's file objects gives list of rows and list of columns."
   ]
  },
  {
   "cell_type": "markdown",
   "id": "4f09a41e",
   "metadata": {},
   "source": [
    "### 5. What do the keyword arguments delimiter and line terminator do?\n",
    "### Ans:- \n",
    "The line terminator is the character that comes at the end of a row. In python by default, the line terminator is a newline."
   ]
  },
  {
   "cell_type": "markdown",
   "id": "010d2e06",
   "metadata": {},
   "source": [
    "### 6. What function takes a string of JSON data and returns a Python data structure?\n",
    "#### Ans:- \n",
    "loads() method return Python data structure of JSON string or data."
   ]
  },
  {
   "cell_type": "markdown",
   "id": "3a9d1502",
   "metadata": {},
   "source": [
    "### 7. What function takes a Python data structure and returns a string of JSON data?\n",
    "#### Ans:- \n",
    "By using json.dumps() method we can convert python data structure into a string of JSON data."
   ]
  },
  {
   "cell_type": "code",
   "execution_count": null,
   "id": "5a90cabb",
   "metadata": {},
   "outputs": [],
   "source": []
  }
 ],
 "metadata": {
  "kernelspec": {
   "display_name": "Python 3",
   "language": "python",
   "name": "python3"
  },
  "language_info": {
   "codemirror_mode": {
    "name": "ipython",
    "version": 3
   },
   "file_extension": ".py",
   "mimetype": "text/x-python",
   "name": "python",
   "nbconvert_exporter": "python",
   "pygments_lexer": "ipython3",
   "version": "3.8.5"
  }
 },
 "nbformat": 4,
 "nbformat_minor": 5
}
