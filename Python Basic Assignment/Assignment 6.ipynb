{
 "cells": [
  {
   "cell_type": "markdown",
   "id": "1198c4a2",
   "metadata": {},
   "source": [
    "# <center>INeuron Assignment 6 <cneter>"
   ]
  },
  {
   "cell_type": "markdown",
   "id": "77cdb927",
   "metadata": {},
   "source": [
    "### 1. What are escape characters, and how do you use them?\n",
    "#### Ans:- \n",
    "Escape characters are used to provide indentation, formatting, and make code easy to understand, more readable. We write them into double or single quotes and the characters  always use backslash `\\` before writing. for example:-\n",
    "\n",
    "'\\n' : New line\n",
    "\n",
    "etc\n",
    "<hr>"
   ]
  },
  {
   "cell_type": "markdown",
   "id": "4fbc054b",
   "metadata": {},
   "source": [
    "### 2. What do the escape characters n and t stand for?\n",
    "#### Ans:- \n",
    "The escape characters **n**  stand for `new line` and **t** for `tab space`.\n",
    "<hr>"
   ]
  },
  {
   "cell_type": "markdown",
   "id": "bf3ada7e",
   "metadata": {},
   "source": [
    "### 3. What is the way to include backslash characters in a string?\n",
    "#### Ans:- \n",
    "The way of using backslash characters is to place them into double or single quotes with double slashes `\\\\`.\n",
    "<br>"
   ]
  },
  {
   "cell_type": "markdown",
   "id": "81ad2bd8",
   "metadata": {},
   "source": [
    "<hr>\n",
    "\n",
    "### 4. The string \"Howl's Moving Castle\" is a correct value. Why isn't the single quote character in the word Howl's not escaped a problem?\n",
    "#### Ans:- \n",
    "Because, according to python comments we can use single quotes inside double quotes. Interpreter start reading double quote  and finds where it ends. but if inerpreter didn't get end double quote it throughs an SyntaxError :invalid syntax and Grammetically, Howl's is the correct word.\n",
    "<hr>"
   ]
  },
  {
   "cell_type": "markdown",
   "id": "2f20710c",
   "metadata": {},
   "source": [
    "### 5. How do you write a string of newlines if you don't want to use the n character?\n",
    "#### Ans:- \n",
    "We can print strings without adding a new line with end=<character>, which <character> is the character that will be used to separate th lines."
   ]
  },
  {
   "cell_type": "markdown",
   "id": "7020f447",
   "metadata": {},
   "source": [
    "<hr>\n",
    "\n",
    "### 6. What are the values of the given expressions?\n",
    "    'Hello, world!'[1]\n",
    "    'Hello, world!'[0:5]\n",
    "    'Hello, world!'[:5]\n",
    "    'Hello, world!'[3:]\n",
    "#### Ans:- \n",
    "```python\n",
    "'Hello, world!'[1] = e\n",
    "'Hello, world!'[0:5] = Hello\n",
    "'Hello, world!'[:5] = Hello\n",
    "'Hello, world!'[3:] = lo, world!\n",
    "```\n",
    "<hr>"
   ]
  },
  {
   "cell_type": "markdown",
   "id": "59c51b9f",
   "metadata": {},
   "source": [
    "### 7. What are the values of the following expressions?\n",
    "    'Hello'.upper()\n",
    "    'Hello'.upper().isupper()\n",
    "    'Hello'.upper().lower()\n",
    "#### Ans:-\n",
    "```python\n",
    "    'Hello'.upper() = 'HELLO'\n",
    "    'Hello'.upper().isupper() = True\n",
    "    'Hello'.upper().lower() = hello\n",
    "```\n",
    "<hr>"
   ]
  },
  {
   "cell_type": "markdown",
   "id": "9b452933",
   "metadata": {},
   "source": [
    "### 8. What are the values of the following expressions?\n",
    "    'Remember, remember, the fifth of July.'.split()\n",
    "    '-'.join('There can only one.'.split())\n",
    " #### Ans:-\n",
    " ``` python\n",
    "    'Remember, remember, the fifth of July.'.split()\n",
    "    Output:\n",
    "        ['Remember,', 'remember,', 'the', 'fifth', 'of', 'July.']\n",
    "        \n",
    "    '-'.join('There can only one.'.split())\n",
    "    output:\n",
    "        'There-can-only-one.'\n",
    "```\n",
    "<hr>"
   ]
  },
  {
   "cell_type": "markdown",
   "id": "2e4ce250",
   "metadata": {},
   "source": [
    "### 9. What are the methods for right-justifying, left-justifying, and centering a string?\n",
    "#### Ans:- \n",
    "The methods for right-justifying is `rjust`, for left-justifying `ljust` and for centring `center`.\n",
    "<hr>"
   ]
  },
  {
   "cell_type": "markdown",
   "id": "8dcbdde2",
   "metadata": {},
   "source": [
    "### 10. What is the best way to remove whitespace characters from the start or end?\n",
    "#### Ans:- \n",
    "To remove whitespace characters from the beginning or from the end of a string only, you use the `trimStart()` or `trimEnd()` method..\n",
    "<hr>"
   ]
  }
 ],
 "metadata": {
  "kernelspec": {
   "display_name": "Python 3",
   "language": "python",
   "name": "python3"
  },
  "language_info": {
   "codemirror_mode": {
    "name": "ipython",
    "version": 3
   },
   "file_extension": ".py",
   "mimetype": "text/x-python",
   "name": "python",
   "nbconvert_exporter": "python",
   "pygments_lexer": "ipython3",
   "version": "3.8.5"
  }
 },
 "nbformat": 4,
 "nbformat_minor": 5
}
