{
 "cells": [
  {
   "cell_type": "markdown",
   "id": "499b4d9d",
   "metadata": {},
   "source": [
    "# <center>INeuron Assignment 7<cneter>"
   ]
  },
  {
   "cell_type": "markdown",
   "id": "5f69cd53",
   "metadata": {},
   "source": [
    "### 1. What is the name of the feature responsible for generating Regex objects?\n",
    "#### Ans:- \n",
    "The feature `re.compile()` is responsible for generating Regex objects.\n",
    "<hr>"
   ]
  },
  {
   "cell_type": "markdown",
   "id": "8b80994a",
   "metadata": {},
   "source": [
    "### 2. Why do raw strings often appear in Regex objects?\n",
    "#### Ans:-\n",
    " In Python, strings prefixed with r such as r'...' and r\"...\" , are called raw strings. Raw strings are useful when handling strings that use a lot of backslashes. The raw string is slightly different from a regular string, it won’t interpret the \\ character as an escape character. For exapmle if we print `\"\\n\"` inside string it will add one line break. But if we try to print `r\"\\n\"` then it will simply print out the “\\n” as a normal character.\n",
    " <hr>"
   ]
  },
  {
   "cell_type": "markdown",
   "id": "e18c0e4b",
   "metadata": {},
   "source": [
    "### 3. What is the return value of the search() method?\n",
    "#### Ans:- \n",
    "The re.search() function takes two parameters and return a match object if there is a match. If there is more than one match, only the first occurrence of the match will be returned. If no matches are found, the value `None` is returned.\n",
    "<hr>"
   ]
  },
  {
   "cell_type": "markdown",
   "id": "8fb7702a",
   "metadata": {},
   "source": [
    "### 4. From a Match item, how do you get the actual strings that match the pattern?\n",
    "#### Ans:- \n",
    "By using  group() method that will return the actual matched text from the searched string.\n",
    "<hr>"
   ]
  },
  {
   "cell_type": "markdown",
   "id": "16fe1989",
   "metadata": {},
   "source": [
    "### 5. In the regex which created from the r'(\\d\\d\\d)-(\\d\\d\\d-\\d\\d\\d\\d)', what does group 0 cover?Group 2? Group 1?\n",
    "#### Ans:- \n",
    "In the regex, r'(\\d\\d\\d)-(\\d\\d\\d-\\d\\d\\d\\d)' the group(0) covers the entire string, group(1) covers the first three string, and group(2) covers the second set of parentheses.\n",
    "for example:-\n",
    "```python\n",
    "import re\n",
    "phoneNumRegex = re.compile(r'(\\d\\d\\d)-(\\d\\d\\d-\\d\\d\\d\\d)')\n",
    "mo = phoneNumRegex.search('My number is 415-555-4242.')\n",
    "print(\"Group 0 covers :\", mo.group(0))\n",
    "print(\"Group 1 covers :\", mo.group(1))\n",
    "print(\"Group 2 covers :\", mo.group(2))\n",
    "```\n",
    "    Output:\n",
    "    Group 0 covers : 415-555-4242\n",
    "    Group 1 covers : 415\n",
    "    Group 2 covers : 555-4242\n",
    "<hr>"
   ]
  },
  {
   "cell_type": "markdown",
   "id": "58e375fb",
   "metadata": {},
   "source": [
    "### 6. In standard expression syntax, parentheses and intervals have distinct meanings. How can you tell a regex that you want it to fit real parentheses and periods?\n",
    "#### Ans:-\n",
    "In regex for printing parentheses and periods, we put backslashes before periods by making it raw string `r\"\\.\"`, and for parentheses `\"\\(\\)\"`.\n",
    "<hr>"
   ]
  },
  {
   "cell_type": "markdown",
   "id": "9070e933",
   "metadata": {},
   "source": [
    "### 7. The findall() method returns a string list or a list of string tuples. What causes it to return one of the two options?\n",
    "#### Ans:-\n",
    "The parenthesis ( ) group mechanism can be combined with findall(). If the pattern includes 2 or more parenthesis groups, then instead of returning a list of strings, findall() returns a list of *tuples*. Each tuple represents one match of the pattern, and inside the tuple is the group(1), group(2) .. data.  If the pattern includes no parenthesis, then findall() returns a list of found strings.\n",
    "<hr>"
   ]
  },
  {
   "cell_type": "markdown",
   "id": "accd3de2",
   "metadata": {},
   "source": [
    "### 8. In standard expressions, what does the | character mean?\n",
    "#### Ans:- \n",
    "The ` | ` mean or, it always used in between the pattern. It try to match the any one of the pattren.\n",
    "for eg:\n",
    "```python\n",
    "import re\n",
    "txt = \"The rain in Spain.\"\n",
    "x = re.search(\"^The | Spain\", txt)\n",
    "\n",
    "if x:\n",
    "    print(\"YES! We have a match!\")\n",
    "else:\n",
    "    print(\"No match\")\n",
    "```\n",
    "    Output:\n",
    "    YES! We have a match!\n",
    "<hr>"
   ]
  },
  {
   "cell_type": "markdown",
   "id": "d7f356bd",
   "metadata": {},
   "source": [
    "### 9. In regular expressions, what does the character stand for ?\n",
    "#### Ans:-\n",
    "The ? character can either mean \"match zero or one of the preceding group\" or be used to signify nongreedy matching.\n",
    "<hr>"
   ]
  },
  {
   "cell_type": "markdown",
   "id": "78f6f293",
   "metadata": {},
   "source": [
    "### 10.In regular expressions, what is the difference between the + and * characters?\n",
    "#### Ans:-\n",
    "The Plus `+` symbol matches one or more occurence of the pattern preceding the `+` symbol. For exaple ab+z will be matched for string abz, abbz, dabz but not be mateched for az, abdz because there is no b in az. while in Star `*` symbol matches zero or more occurence of the patern preceding the * symbol. For exapmle ab*z will be matched for the string az, abz, abbbz, dabz, etc. but will not be matched for abdz because b is not followed by z.\n",
    "<hr>"
   ]
  },
  {
   "cell_type": "markdown",
   "id": "dc142beb",
   "metadata": {},
   "source": [
    "### 11. What is the difference between {4} and {4,5} in regular expression?\n",
    "#### Ans:-\n",
    "Curly braces can be used to represent the number of repetitions between two numbers.The regex {4,5} means between 4 and 5  repetitions of something. {4} means that the  preceding element or subexpression must occur exactly 4 times.\n",
    "for example:\n",
    "```python\n",
    "import re\n",
    "\n",
    "txt = \"hello world\"\n",
    "x = re.findall(\"hel.{4}\", txt)\n",
    "y = re.findall(\"hel.{4,5}\", txt)\n",
    "print(x)\n",
    "print(y)\n",
    "```\n",
    "    Output:\n",
    "    ['hello w']\n",
    "    ['hello wo']\n",
    " <hr>"
   ]
  },
  {
   "cell_type": "markdown",
   "id": "ef481fc6",
   "metadata": {},
   "source": [
    "### 12. What do you mean by the \\d, \\w, and \\s shorthand character classes signify in regular expressions?\n",
    "#### Ans:-\n",
    "The `\\d` character returns a match where the string contains digits (numbers from 0-9), `\\w` character returns a match where the string contains any word characters or alphanumeric characters from a to Z, digits from 0-9, and the underscore _ character, and `s` character returns a match where the string contains a white space character\n",
    "<hr>"
   ]
  },
  {
   "cell_type": "markdown",
   "id": "f78dbbd7",
   "metadata": {},
   "source": [
    "### 13. What do means by \\D, \\W, and \\S shorthand character classes signify in regular expressions?\n",
    "#### Ans:-\n",
    "In regex, `\\D` character returns a match where the string does not contain digits, `\\W` character returns a match where the string does not contain any word characters and `\\S` character returns a match where the string does not contain a white space character.\n",
    "<hr>"
   ]
  },
  {
   "cell_type": "markdown",
   "id": "da0fb93d",
   "metadata": {},
   "source": [
    "### 14. What is the difference between .\\*? and .\\* ?\n",
    "#### Ans:-\n",
    "In regex, `*?` try to match the string with zero or one occurrences as we saw in the example. whereas the `*` character matches the zero or more occurrences of the string.\n",
    "```python\n",
    "import re\n",
    "\n",
    "txt = \"hello world\"\n",
    "x = re.findall(\"he.*?\", txt)\n",
    "y = re.findall(\"he.*\", txt)\n",
    "\n",
    "print(x)\n",
    "print(y)\n",
    "```\n",
    "    Output:\n",
    "    ['he']\n",
    "    ['hello world']\n",
    "<hr>"
   ]
  },
  {
   "cell_type": "markdown",
   "id": "fb4198c0",
   "metadata": {},
   "source": [
    "### 15. What is the syntax for matching both numbers and lowercase letters with a character class?\n",
    "#### Ans:-\n",
    "The syntax for matching both numbers and lowercase letters is **`\"[a-z0-9]\"`**.\n",
    "<hr>"
   ]
  },
  {
   "cell_type": "markdown",
   "id": "7c477a2c",
   "metadata": {},
   "source": [
    "### 16. What is the procedure for making a normal expression in regax case insensitive?\n",
    "#### Ans:-\n",
    "re.IGNORECASE flag allows for case-insensitive matching of the Regular Expression with the given string i.e. expressions like [A-Z] will match lowercase letters. Generally, It’s passed as an optional argument to re.compile().\n",
    "<hr>"
   ]
  },
  {
   "cell_type": "markdown",
   "id": "3ff23900",
   "metadata": {},
   "source": [
    "### 17. What does the . character normally match? What does it match if re.DOTALL is passed as 2nd argument in re.compile()?\n",
    "#### Ans:-\n",
    "in regex is a metacharacter, it is used to match any character except the newline character. If re. DOTALL is passed as the second argument to re. compile(), then the dot will also match newline characters.\n",
    "<hr>"
   ]
  },
  {
   "cell_type": "markdown",
   "id": "eebca089",
   "metadata": {},
   "source": [
    "### 18. If numRegex = re.compile(r'\\d+'), what will numRegex.sub('X', '11 drummers, 10 pipers, five rings, 4 hen') return?\n",
    "#### Ans:-\n",
    "If numRegex.sub('X', '11 drummers, 10 pipers, five rings, 4 hen') is passed it will return the **`'X drummers, X pipers, five rings, X hen'`**\n",
    "<hr>"
   ]
  },
  {
   "cell_type": "markdown",
   "id": "7cc6d099",
   "metadata": {},
   "source": [
    "### 19. What does passing re.VERBOSE as the 2nd argument to re.compile() allow to do?\n",
    "#### Ans:-\n",
    "The re.VERBOSE argument allows you to add whitespace and comments to the string passed to re.compile().\n",
    "<hr>"
   ]
  },
  {
   "cell_type": "markdown",
   "id": "6c796c6a",
   "metadata": {},
   "source": [
    "### 20. How would you write a regex that match a number with comma for every three digits? It must match the given following:\n",
    "    '42'\n",
    "    '1,234'\n",
    "    '6,368,745'\n",
    "\n",
    "    but not the following:\n",
    "    '12,34,567' (which has only two digits between the commas)\n",
    "    '1234' (which lacks commas)\n",
    "#### Ans:-\n",
    "```python\n",
    "re.compile(r'^\\d{1,3}(,\\d{3})*$') \n",
    "``` \n",
    "will create this regex, but other regex strings can produce a similar regular expression.\n",
    "<hr>"
   ]
  },
  {
   "cell_type": "markdown",
   "id": "c6a5e805",
   "metadata": {},
   "source": [
    "### 21. How would you write a regex that matches the full name of someone whose last name is Watanabe? You can assume that the first name that comes before it will always be one word that begins with a capital letter. The regex must match the following:\n",
    "    'Haruto Watanabe'\n",
    "    'Alice Watanabe'\n",
    "    'RoboCop Watanabe'\n",
    "    but not the following:\n",
    "    'haruto Watanabe' (where the first name is not capitalized)\n",
    "    'Mr. Watanabe' (where the preceding word has a nonletter character)\n",
    "    'Watanabe' (which has no first name)\n",
    "    'Haruto watanabe' (where Watanabe is not capitalized)\n",
    "#### Ans:-\n",
    "```python\n",
    "re.compile(r'[A-Z][A-Za-z]*\\sWatanabe')\n",
    "```\n",
    "<hr>"
   ]
  },
  {
   "cell_type": "markdown",
   "id": "8dd8027a",
   "metadata": {},
   "source": [
    "### 22. How would you write a regex that matches a sentence where the first word is either Alice, Bob,or Carol; the second word is either eats, pets, or throws; the third word is apples, cats, or baseballs; and the sentence ends with a period? This regex should be case-insensitive. It must match the following:\n",
    "    'Alice eats apples.'\n",
    "    'Bob pets cats.'\n",
    "    'Carol throws baseballs'\n",
    "    'Alice throws Apples.'\n",
    "    'BOB EATS CATS.'\n",
    "    but not the following:\n",
    "    'RoboCop eats apples.';\n",
    "    'ALICE THROWS FOOTBALLS.'\n",
    "    'Carol eats 7 cats.'\n",
    "#### Ans:-\n",
    "```python\n",
    "re.compile(r'(Alice|Bob|Carol)\\s(eats|pets|throws)\\s(apples|cats|baseballs)\\.', re.IGNORECASE)\n",
    "```"
   ]
  }
 ],
 "metadata": {
  "kernelspec": {
   "display_name": "Python 3",
   "language": "python",
   "name": "python3"
  },
  "language_info": {
   "codemirror_mode": {
    "name": "ipython",
    "version": 3
   },
   "file_extension": ".py",
   "mimetype": "text/x-python",
   "name": "python",
   "nbconvert_exporter": "python",
   "pygments_lexer": "ipython3",
   "version": "3.8.5"
  }
 },
 "nbformat": 4,
 "nbformat_minor": 5
}
