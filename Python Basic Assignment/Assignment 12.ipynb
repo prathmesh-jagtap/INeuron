{
 "cells": [
  {
   "cell_type": "markdown",
   "id": "ebf34e50",
   "metadata": {},
   "source": [
    "# <center>INeuron Assignment 12"
   ]
  },
  {
   "cell_type": "markdown",
   "id": "86bd0cd7",
   "metadata": {},
   "source": [
    "### 1. In what modes should the PdfFileReader() and PdfFileWriter() File objects will be opened?\n",
    "#### Ans:- \n",
    "PdfFileReader() needs to be opened in read-binary mode by passing 'rb' as the second argument to open(). PdfFileWriter() needs to be opened in write-binary mode with 'wb'."
   ]
  },
  {
   "cell_type": "markdown",
   "id": "1e8b5d06",
   "metadata": {},
   "source": [
    "### 2. From a PdfFileReader object, how do you get a Page object for page 5?\n",
    "By calling he getPage() method on a PdfFileReader object and passing it the page number 5."
   ]
  },
  {
   "cell_type": "markdown",
   "id": "550a1398",
   "metadata": {},
   "source": [
    "### 3. What PdfFileReader variable stores the number of pages in the PDF document?\n",
    "#### Ans:-\n",
    "The numPages attribute passed with PdfFileReader object stores the number of pages in the PDF document."
   ]
  },
  {
   "cell_type": "markdown",
   "id": "8a29a3f6",
   "metadata": {},
   "source": [
    "### 4. If a PdfFileReader object’s PDF is encrypted with the password swordfish, what must you do before you can obtain Page objects from it?\n",
    "#### Ans:-\n",
    "We have to pass swordfish as a password in decrypt() method which call using PdfFileReader object."
   ]
  },
  {
   "cell_type": "markdown",
   "id": "083edab7",
   "metadata": {},
   "source": [
    "### 5. What methods do you use to rotate a page?\n",
    "#### Ans:-\n",
    "We use rotateClockwise(angle) method with page object to rotate a page."
   ]
  },
  {
   "cell_type": "markdown",
   "id": "56cb60e0",
   "metadata": {},
   "source": [
    "### 6. What is the difference between a Run object and a Paragraph object?\n",
    "#### Ans:- \n",
    "Paragraph Object : A document contains multiple paragraphs. A paragraph begins on a new line and contains multiple runs. The Document object contains a list of Paragraph objects for the paragraphs in the document. A new paragraph begins whenever the user presses ENTER or RETURN while typing in a Word document.\n",
    "Run Objects, Runs are contiguous groups of characters within a paragraph with the same style"
   ]
  },
  {
   "cell_type": "markdown",
   "id": "2a469021",
   "metadata": {},
   "source": [
    "### 7. How do you obtain a list of Paragraph objects for a Document object that’s stored in a variable named doc?\n",
    "#### Ans:- \n",
    "By using print(doc.paragraphs) we can obtain a list of Paragraph objects for a Document object."
   ]
  },
  {
   "cell_type": "markdown",
   "id": "e4a90bb0",
   "metadata": {},
   "source": [
    "### 8. What type of object has bold, underline, italic, strike, and outline variables?\n",
    "#### Ans:-\n",
    "A Run object has bold, underline,italic,strike and outline variables"
   ]
  },
  {
   "cell_type": "markdown",
   "id": "a9876ac1",
   "metadata": {},
   "source": [
    "### 9. What is the difference between False, True, and None for the bold variable?\n",
    "#### Ans:-\n",
    "    Runs can be further styled using text attributes. Each attribute can be set to one of three values:\n",
    "    True (the attribute is always enabled, no matter what other styles are applied to the run),\n",
    "    False (the attribute is always disabled),\n",
    "    None (defaults to whatever the run’s style is set to)\n",
    "for eg:\n",
    "``` python\n",
    "# add a run i.e, style like \n",
    "# bold, italic, underline, etc.\n",
    "doc_para.add_run('hey there, bold here').bold = True\n",
    "doc_para.add_run(', and ').bold = None\n",
    "doc_para.add_run('these words are italic').italic = True\n",
    "```"
   ]
  },
  {
   "cell_type": "markdown",
   "id": "e043b7f9",
   "metadata": {},
   "source": [
    "### 10. How do you create a Document object for a new Word document?\n",
    "#### Ans:-\n",
    "we can use \n",
    "```python\n",
    "import docx\n",
    "newdoc = docx.Document()\n",
    "``` "
   ]
  },
  {
   "cell_type": "markdown",
   "id": "b06cc461",
   "metadata": {},
   "source": [
    "### 11. How do you add a paragraph with the text \"Hello, there\" to a Document object stored in a variable named doc?\n",
    "#### Ans:-\n",
    "```python\n",
    "import docx\n",
    "doc = docx.Document()\n",
    "\n",
    "doc.add_paragraph(\"Hello, there\")\n",
    "doc.save(\"example\")\n",
    "```"
   ]
  },
  {
   "cell_type": "markdown",
   "id": "9aca0f74",
   "metadata": {},
   "source": [
    "### 12. What integers represent the levels of headings available in Word documents?\n",
    "#### Ans:-\n",
    "integers 0 to 4 which used in add_headings as a arguements represents the levels of headings in word documents."
   ]
  }
 ],
 "metadata": {
  "kernelspec": {
   "display_name": "Python 3",
   "language": "python",
   "name": "python3"
  },
  "language_info": {
   "codemirror_mode": {
    "name": "ipython",
    "version": 3
   },
   "file_extension": ".py",
   "mimetype": "text/x-python",
   "name": "python",
   "nbconvert_exporter": "python",
   "pygments_lexer": "ipython3",
   "version": "3.8.5"
  }
 },
 "nbformat": 4,
 "nbformat_minor": 5
}
